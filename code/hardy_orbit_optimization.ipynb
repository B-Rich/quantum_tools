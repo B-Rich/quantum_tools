{
 "cells": [
  {
   "cell_type": "code",
   "execution_count": 3,
   "metadata": {
    "collapsed": false
   },
   "outputs": [
    {
     "name": "stdout",
     "output_type": "stream",
     "text": [
      "The autoreload extension is already loaded. To reload it, use:\n",
      "  %reload_ext autoreload\n"
     ]
    }
   ],
   "source": [
    "%matplotlib notebook\n",
    "%load_ext autoreload\n",
    "%autoreload 2"
   ]
  },
  {
   "cell_type": "code",
   "execution_count": 29,
   "metadata": {
    "collapsed": false
   },
   "outputs": [],
   "source": [
    "from quantum_tools.examples import symbolic_contexts\n",
    "from quantum_tools.symmetries.workspace import get_contraction_elements\n",
    "from quantum_tools.config import *\n",
    "from scipy import sparse\n",
    "import numpy as np\n",
    "from functools import reduce\n",
    "from operator import mul\n",
    "from quantum_tools.hypergraph.hypergraph_transversals import find_transversals, hyper_graph"
   ]
  },
  {
   "cell_type": "code",
   "execution_count": 30,
   "metadata": {
    "collapsed": false
   },
   "outputs": [],
   "source": [
    "def sparse_density(A):\n",
    "    try:\n",
    "        max_size = reduce(mul, A.shape, 1)\n",
    "        density = A.nnz / max_size\n",
    "        return density\n",
    "    except Exception as e:\n",
    "        print(str(e))\n",
    "        raise Exception(\"Likely not a sparse matrix. A.__class__: {0}\".format(A.__class__))"
   ]
  },
  {
   "cell_type": "code",
   "execution_count": 19,
   "metadata": {
    "collapsed": false
   },
   "outputs": [
    {
     "data": {
      "text/plain": [
       "[[['A1', 'B1', 'C1'], ['A4', 'B4', 'C4']],\n",
       " [['A1', 'B2', 'C3'], ['A4', 'B3', 'C2']],\n",
       " [['A2', 'B3', 'C1'], ['A3', 'B2', 'C4']],\n",
       " [['A2', 'B4', 'C3'], ['A3', 'B1', 'C2']],\n",
       " [['A1'], ['B3'], ['C4']],\n",
       " [['A1'], ['B4'], ['C2']],\n",
       " [['A2'], ['B1'], ['C4']],\n",
       " [['A2'], ['B2'], ['C2']],\n",
       " [['A3'], ['B3'], ['C3']],\n",
       " [['A3'], ['B4'], ['C1']],\n",
       " [['A4'], ['B1'], ['C3']],\n",
       " [['A4'], ['B2'], ['C1']]]"
      ]
     },
     "execution_count": 19,
     "metadata": {},
     "output_type": "execute_result"
    }
   ],
   "source": [
    "symbolic_contexts.ABC_444_444.preinjectable_sets\n",
    "# symbolic_contexts.ABC_444_444.outcomes"
   ]
  },
  {
   "cell_type": "code",
   "execution_count": 38,
   "metadata": {
    "collapsed": false
   },
   "outputs": [
    {
     "name": "stdout",
     "output_type": "stream",
     "text": [
      "40 64\n",
      "ShiftedBase(shift=0, base=(32, 16, 8, 4, 2, 1))\n",
      "ShiftedBase(shift=0, base=(0, 4, 0, 2, 0, 1))\n",
      "ShiftedBase(shift=8, base=(0, 4, 0, 2, 1, 0))\n",
      "ShiftedBase(shift=16, base=(4, 0, 0, 2, 0, 1))\n",
      "ShiftedBase(shift=24, base=(0, 4, 2, 0, 0, 1))\n",
      "ShiftedBase(shift=32, base=(4, 0, 2, 0, 1, 0))\n",
      "Found 14 row_orbits.\n",
      "Found 20 col_orbits.\n"
     ]
    }
   ],
   "source": [
    "small_row_sum, small_A, small_col_sum, small_contracted_A = get_contraction_elements(symbolic_contexts.ABC_222_222)"
   ]
  },
  {
   "cell_type": "code",
   "execution_count": 7,
   "metadata": {
    "collapsed": false
   },
   "outputs": [
    {
     "name": "stdout",
     "output_type": "stream",
     "text": [
      "16896 16777216\n",
      "ShiftedBase(shift=0, base=(4194304, 1048576, 262144, 65536, 16384, 4096, 1024, 256, 64, 16, 4, 1))\n",
      "ShiftedBase(shift=0, base=(1024, 0, 0, 256, 64, 0, 0, 16, 4, 0, 0, 1))\n",
      "ShiftedBase(shift=4096, base=(1024, 0, 0, 256, 0, 64, 16, 0, 0, 4, 1, 0))\n",
      "ShiftedBase(shift=8192, base=(0, 1024, 256, 0, 0, 64, 16, 0, 4, 0, 0, 1))\n",
      "ShiftedBase(shift=12288, base=(0, 1024, 256, 0, 64, 0, 0, 16, 0, 4, 1, 0))\n",
      "ShiftedBase(shift=16384, base=(16, 0, 0, 0, 0, 0, 4, 0, 0, 0, 0, 1))\n",
      "ShiftedBase(shift=16448, base=(16, 0, 0, 0, 0, 0, 0, 4, 0, 1, 0, 0))\n",
      "ShiftedBase(shift=16512, base=(0, 16, 0, 0, 4, 0, 0, 0, 0, 0, 0, 1))\n",
      "ShiftedBase(shift=16576, base=(0, 16, 0, 0, 0, 4, 0, 0, 0, 1, 0, 0))\n",
      "ShiftedBase(shift=16640, base=(0, 0, 16, 0, 0, 0, 4, 0, 0, 0, 1, 0))\n",
      "ShiftedBase(shift=16704, base=(0, 0, 16, 0, 0, 0, 0, 4, 1, 0, 0, 0))\n",
      "ShiftedBase(shift=16768, base=(0, 0, 0, 16, 4, 0, 0, 0, 0, 0, 1, 0))\n",
      "ShiftedBase(shift=16832, base=(0, 0, 0, 16, 0, 4, 0, 0, 1, 0, 0, 0))\n",
      "Found 450 row_orbits.\n",
      "Found 358120 col_orbits.\n"
     ]
    }
   ],
   "source": [
    "row_sum, A, col_sum, contracted_A = get_contraction_elements(symbolic_contexts.ABC_444_444)"
   ]
  },
  {
   "cell_type": "code",
   "execution_count": 36,
   "metadata": {
    "collapsed": false
   },
   "outputs": [
    {
     "data": {
      "text/plain": [
       "<95x430 sparse matrix of type '<class 'numpy.float64'>'\n",
       "\twith 3134 stored elements in Compressed Sparse Row format>"
      ]
     },
     "execution_count": 36,
     "metadata": {},
     "output_type": "execute_result"
    }
   ],
   "source": [
    "H_example = hyper_graph(contracted_A, 0)\n",
    "H_example"
   ]
  },
  {
   "cell_type": "code",
   "execution_count": 39,
   "metadata": {
    "collapsed": false
   },
   "outputs": [
    {
     "data": {
      "text/plain": [
       "0.2857142857142857"
      ]
     },
     "execution_count": 39,
     "metadata": {},
     "output_type": "execute_result"
    }
   ],
   "source": [
    "sparse_density(small_contracted_A)"
   ]
  },
  {
   "cell_type": "code",
   "execution_count": 42,
   "metadata": {
    "collapsed": false
   },
   "outputs": [],
   "source": [
    "small_fts = find_transversals(small_contracted_A, strat='depth')"
   ]
  },
  {
   "cell_type": "code",
   "execution_count": null,
   "metadata": {
    "collapsed": true
   },
   "outputs": [],
   "source": [
    "small_noncontracted_fts = find_transversals(small_A, strat='depth')"
   ]
  },
  {
   "cell_type": "code",
   "execution_count": 46,
   "metadata": {
    "collapsed": false
   },
   "outputs": [
    {
     "data": {
      "text/plain": [
       "(14, 72)"
      ]
     },
     "execution_count": 46,
     "metadata": {},
     "output_type": "execute_result"
    }
   ],
   "source": [
    "small_fts.raw().toarray().shape"
   ]
  },
  {
   "cell_type": "code",
   "execution_count": null,
   "metadata": {
    "collapsed": true
   },
   "outputs": [],
   "source": []
  }
 ],
 "metadata": {
  "kernelspec": {
   "display_name": "Python 3",
   "language": "python",
   "name": "python3"
  },
  "language_info": {
   "codemirror_mode": {
    "name": "ipython",
    "version": 3
   },
   "file_extension": ".py",
   "mimetype": "text/x-python",
   "name": "python",
   "nbconvert_exporter": "python",
   "pygments_lexer": "ipython3",
   "version": "3.4.3"
  }
 },
 "nbformat": 4,
 "nbformat_minor": 0
}
