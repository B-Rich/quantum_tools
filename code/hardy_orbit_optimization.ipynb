{
 "cells": [
  {
   "cell_type": "code",
   "execution_count": 1,
   "metadata": {
    "collapsed": true
   },
   "outputs": [],
   "source": [
    "%matplotlib notebook\n",
    "%load_ext autoreload\n",
    "%autoreload 2"
   ]
  },
  {
   "cell_type": "code",
   "execution_count": 2,
   "metadata": {
    "collapsed": true
   },
   "outputs": [],
   "source": [
    "from quantum_tools.examples import symbolic_contexts\n",
    "from quantum_tools.symmetries.workspace import get_contraction_elements\n",
    "from quantum_tools.config import *\n",
    "from scipy import sparse\n",
    "import numpy as np"
   ]
  },
  {
   "cell_type": "code",
   "execution_count": 4,
   "metadata": {
    "collapsed": false
   },
   "outputs": [
    {
     "name": "stdout",
     "output_type": "stream",
     "text": [
      "40 64\n",
      "ShiftedBase(shift=0, base=(32, 16, 8, 4, 2, 1))\n",
      "ShiftedBase(shift=0, base=(0, 4, 0, 2, 0, 1))\n",
      "ShiftedBase(shift=8, base=(0, 4, 0, 2, 1, 0))\n",
      "ShiftedBase(shift=16, base=(4, 0, 0, 2, 0, 1))\n",
      "ShiftedBase(shift=24, base=(0, 4, 2, 0, 0, 1))\n",
      "ShiftedBase(shift=32, base=(4, 0, 2, 0, 1, 0))\n",
      "Found 14 row_orbits.\n",
      "Found 20 col_orbits.\n"
     ]
    }
   ],
   "source": [
    "row_sum, A, col_sum, contracted_A = get_contraction_elements(symbolic_contexts.ABC_222_222)"
   ]
  },
  {
   "cell_type": "code",
   "execution_count": null,
   "metadata": {
    "collapsed": true
   },
   "outputs": [],
   "source": []
  }
 ],
 "metadata": {
  "kernelspec": {
   "display_name": "Python 3",
   "language": "python",
   "name": "python3"
  },
  "language_info": {
   "codemirror_mode": {
    "name": "ipython",
    "version": 3
   },
   "file_extension": ".py",
   "mimetype": "text/x-python",
   "name": "python",
   "nbconvert_exporter": "python",
   "pygments_lexer": "ipython3",
   "version": "3.4.3"
  }
 },
 "nbformat": 4,
 "nbformat_minor": 0
}
