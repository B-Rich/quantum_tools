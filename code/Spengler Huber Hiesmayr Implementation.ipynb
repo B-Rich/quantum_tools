{
 "cells": [
  {
   "cell_type": "code",
   "execution_count": null,
   "metadata": {
    "collapsed": true
   },
   "outputs": [],
   "source": [
    "%reload_ext autoreload"
   ]
  },
  {
   "cell_type": "code",
   "execution_count": 1,
   "metadata": {
    "collapsed": true
   },
   "outputs": [],
   "source": [
    "%matplotlib notebook\n",
    "%load_ext autoreload\n",
    "%autoreload 2"
   ]
  },
  {
   "cell_type": "code",
   "execution_count": 2,
   "metadata": {
    "collapsed": false
   },
   "outputs": [],
   "source": [
    "import numpy as np\n",
    "from scipy import linalg\n",
    "from quantum_tools.config import *\n",
    "from quantum_tools.utilities import utils\n",
    "from functools import reduce\n",
    "from cmath import exp"
   ]
  },
  {
   "cell_type": "code",
   "execution_count": 3,
   "metadata": {
    "collapsed": true
   },
   "outputs": [],
   "source": [
    "def convex_param(θ):\n",
    "    \"\"\"\n",
    "    Given a set of k parameters, find {p_n} such that Σn=1..k+1 p_n = 1\n",
    "    \"\"\"\n",
    "    \n",
    "    k = len(θ)\n",
    "    p = np.zeros(k+1)\n",
    "    \n",
    "    cos2p = np.cos(θ)**2\n",
    "    sin2p = np.sin(θ)**2\n",
    "    \n",
    "    for n in range(k):\n",
    "        p[n] = cos2p[n] * np.prod(sin2p[:n])\n",
    "    p[k] = np.prod(sin2p)\n",
    "    \n",
    "    return p"
   ]
  },
  {
   "cell_type": "code",
   "execution_count": 4,
   "metadata": {
    "collapsed": true
   },
   "outputs": [],
   "source": [
    "def is_unitary(U):\n",
    "    return np.allclose(U.conj().T.dot(U), np.eye(U.shape[0]))"
   ]
  },
  {
   "cell_type": "code",
   "execution_count": 5,
   "metadata": {
    "collapsed": true
   },
   "outputs": [],
   "source": [
    "def get_Pl(d):\n",
    "    \"\"\"\n",
    "    The imdepotent projector of P_l = |l><l| where |l> lives in H^d\n",
    "    \"\"\"\n",
    "    Pl = np.zeros((d,d,d))\n",
    "    for i in range(d):\n",
    "        Pl[i,i,i] = 1\n",
    "    return Pl"
   ]
  },
  {
   "cell_type": "code",
   "execution_count": 41,
   "metadata": {
    "collapsed": true
   },
   "outputs": [],
   "source": [
    "def expim(M, λ):\n",
    "    return linalg.expm(1j * M * λ)\n",
    "\n",
    "def pexpim(M, λ, I):\n",
    "    return I + M *(exp(1j * λ) - 1)\n",
    "\n",
    "# def sexpim(σ, m, n, λ, I):\n",
    "#     return np.dot((I + σ[m,n] * λ), (I - σ[n,m] * λ))\n",
    "\n",
    "def sexpim(p_σ, m, n, λ, I):\n",
    "    return I + (p_σ[m,m] + p_σ[n,n]) * (np.cos(λ) - 1) + (p_σ[m,n] - p_σ[n,m]) * np.sin(λ)\n",
    "#     return linalg.expm(σ )"
   ]
  },
  {
   "cell_type": "code",
   "execution_count": 8,
   "metadata": {
    "collapsed": true
   },
   "outputs": [],
   "source": [
    "def get_basis(d):\n",
    "    return np.eye(d)"
   ]
  },
  {
   "cell_type": "code",
   "execution_count": 9,
   "metadata": {
    "collapsed": true
   },
   "outputs": [],
   "source": [
    "def get_σ_matrix(d):\n",
    "    σ = []\n",
    "    basis = get_basis(d)\n",
    "    for m in range(d):\n",
    "        σ_m = []\n",
    "        for n in range(d):\n",
    "            partial_σ_mn = 1j * np.outer(basis[n], basis[m])\n",
    "            σ_mn = partial_σ_mn.conj().T + partial_σ_mn\n",
    "            σ_m.append(σ_mn)\n",
    "        σ.append(σ_m)\n",
    "    return np.array(σ)\n",
    "\n",
    "def get_partial_σ_matrix(d):\n",
    "    p_σ = []\n",
    "    basis = get_basis(d)\n",
    "    for m in range(d):\n",
    "        p_σ_m = []\n",
    "        for n in range(d):\n",
    "            p_σ_mn = np.outer(basis[m], basis[n])\n",
    "            p_σ_m.append(p_σ_mn)\n",
    "        p_σ.append(p_σ_m)\n",
    "    return np.array(p_σ)"
   ]
  },
  {
   "cell_type": "code",
   "execution_count": 10,
   "metadata": {
    "collapsed": true
   },
   "outputs": [],
   "source": [
    "def multi_dot(Mv):\n",
    "    return reduce(np.dot, Mv)"
   ]
  },
  {
   "cell_type": "code",
   "execution_count": 37,
   "metadata": {
    "collapsed": true
   },
   "outputs": [],
   "source": [
    "class UnitaryParam():\n",
    "    \n",
    "    def __init__(self, d):\n",
    "        self.d = d\n",
    "        self.basis = get_basis(d)\n",
    "        self.I = np.eye(d)\n",
    "        self.Pl = get_Pl(d)\n",
    "#         self.σ = get_σ_matrix(d)\n",
    "        self.p_σ = get_partial_σ_matrix(d)\n",
    "        \n",
    "    def GP(self, λ):\n",
    "        return multi_dot(pexpim(self.Pl[l], λ[l,l], self.I) for l in range(self.d))\n",
    "    \n",
    "    def Λ(self, m, n, λ):\n",
    "        return np.dot(pexpim(self.Pl[n], λ[n,m], self.I), sexpim(self.p_σ, m, n, λ[m,n], self.I))\n",
    "    \n",
    "    def U(self, λ):\n",
    "        GP = self.GP(λ)\n",
    "        RRP = multi_dot(multi_dot(self.Λ(m, n, λ) for n in range(m + 1, self.d)) for m in range(self.d-1))\n",
    "        return np.dot(RRP, GP)"
   ]
  },
  {
   "cell_type": "code",
   "execution_count": 38,
   "metadata": {
    "collapsed": false
   },
   "outputs": [],
   "source": [
    "up = UnitaryParam(3)"
   ]
  },
  {
   "cell_type": "code",
   "execution_count": 56,
   "metadata": {
    "collapsed": false
   },
   "outputs": [
    {
     "name": "stdout",
     "output_type": "stream",
     "text": [
      "[[-0.28901-0.4501j  -0.72357-0.17289j -0.16165+0.36649j]\n",
      " [ 0.07548-0.01076j -0.20943-0.40166j  0.87138-0.17231j]\n",
      " [ 0.35018-0.76515j  0.19691+0.45011j  0.22203+0.03547j]]\n",
      "[[-0.28901+0.4501j   0.07548+0.01076j  0.35018+0.76515j]\n",
      " [-0.72357+0.17289j -0.20943+0.40166j  0.19691-0.45011j]\n",
      " [-0.16165-0.36649j  0.87138+0.17231j  0.22203-0.03547j]]\n",
      "[[ 1.+0.j -0.+0.j  0.+0.j]\n",
      " [-0.-0.j  1.+0.j  0.-0.j]\n",
      " [ 0.-0.j  0.+0.j  1.+0.j]]\n"
     ]
    }
   ],
   "source": [
    "print(up.U(λ))\n",
    "print(up.U(λ).conj().T)\n",
    "print(np.dot(up.U(λ).conj().T, up.U(λ)))"
   ]
  },
  {
   "cell_type": "code",
   "execution_count": 55,
   "metadata": {
    "collapsed": false
   },
   "outputs": [
    {
     "name": "stdout",
     "output_type": "stream",
     "text": [
      "[[ 1.00000+0.j  0.00000+0.j  0.00000+0.j]\n",
      " [ 0.00000+0.j -0.41615+0.j  0.90930+0.j]\n",
      " [ 0.00000-0.j -0.90930-0.j -0.41615-0.j]]\n",
      "[[ 1.       0.       0.     ]\n",
      " [ 0.      -0.41615  0.9093 ]\n",
      " [ 0.      -0.9093  -0.41615]]\n"
     ]
    }
   ],
   "source": [
    "m, n = 1,2\n",
    "p_σ = get_partial_σ_matrix(3)\n",
    "print(expim(-1j * p_σ[m,n] + 1j * p_σ[n,m], λ[m,n]))\n",
    "print(sexpim(p_σ, m, n, λ[m,n], np.eye(3)))"
   ]
  },
  {
   "cell_type": "code",
   "execution_count": 59,
   "metadata": {
    "collapsed": false
   },
   "outputs": [
    {
     "name": "stdout",
     "output_type": "stream",
     "text": [
      "         65148 function calls (59148 primitive calls) in 0.198 seconds\n",
      "\n",
      "   Ordered by: cumulative time\n",
      "   List reduced from 25 to 5 due to restriction <0.2>\n",
      "\n",
      "   ncalls  tottime  percall  cumtime  percall filename:lineno(function)\n",
      "        1    0.001    0.001    0.203    0.203 <ipython-input-50-ffe4f94e51db>:1(stress_test)\n",
      "     1000    0.003    0.000    0.202    0.000 <ipython-input-37-439c1a8f12fc>:17(U)\n",
      "5000/2000    0.003    0.000    0.195    0.000 <ipython-input-10-15722dcdcdde>:1(multi_dot)\n",
      "5000/2000    0.019    0.000    0.194    0.000 {built-in method reduce}\n",
      "     9000    0.004    0.000    0.135    0.000 <ipython-input-37-439c1a8f12fc>:19(<genexpr>)\n",
      "\n",
      "\n"
     ]
    }
   ],
   "source": [
    "PROFILE_MIXIN(stress_test, 1000)"
   ]
  },
  {
   "cell_type": "code",
   "execution_count": 53,
   "metadata": {
    "collapsed": false
   },
   "outputs": [
    {
     "data": {
      "text/plain": [
       "66.66666666666667"
      ]
     },
     "execution_count": 53,
     "metadata": {},
     "output_type": "execute_result"
    }
   ],
   "source": [
    "4.00 / 0.06"
   ]
  },
  {
   "cell_type": "code",
   "execution_count": 307,
   "metadata": {
    "collapsed": true
   },
   "outputs": [],
   "source": [
    "λs = [np.random.normal(0,1,(d, d)) for _ in range(1000)]"
   ]
  },
  {
   "cell_type": "code",
   "execution_count": 50,
   "metadata": {
    "collapsed": false
   },
   "outputs": [],
   "source": [
    "def stress_test(k):\n",
    "    d = 4\n",
    "    up = UnitaryParam(4)\n",
    "    λ = np.random.normal(0,1, (d, d))\n",
    "    for _ in range(k):\n",
    "        U = up.U(λ)\n",
    "#         if not is_unitary(U):\n",
    "#             print(U)\n",
    "#             raise Exception(\"Ooops\")"
   ]
  },
  {
   "cell_type": "code",
   "execution_count": 14,
   "metadata": {
    "collapsed": true
   },
   "outputs": [],
   "source": [
    "λ = np.array([\n",
    "        [1,3,1],\n",
    "        [2,2, 2],\n",
    "        [1, 1.3, 1],\n",
    "    ])"
   ]
  },
  {
   "cell_type": "code",
   "execution_count": 94,
   "metadata": {
    "collapsed": false
   },
   "outputs": [
    {
     "data": {
      "text/plain": [
       "array([[ 0.+0.j,  0.+0.j,  0.+0.j,  0.-1.j],\n",
       "       [ 0.+0.j,  0.+0.j,  0.+0.j,  0.+0.j],\n",
       "       [ 0.+0.j,  0.+0.j,  0.+0.j,  0.+0.j],\n",
       "       [ 0.+1.j,  0.+0.j,  0.+0.j,  0.+0.j]])"
      ]
     },
     "execution_count": 94,
     "metadata": {},
     "output_type": "execute_result"
    }
   ],
   "source": [
    "σ_matrix(0,3,basis(4))"
   ]
  },
  {
   "cell_type": "code",
   "execution_count": 57,
   "metadata": {
    "collapsed": false
   },
   "outputs": [
    {
     "ename": "NameError",
     "evalue": "name 'global_phase' is not defined",
     "output_type": "error",
     "traceback": [
      "\u001b[1;31m---------------------------------------------------------------------------\u001b[0m",
      "\u001b[1;31mNameError\u001b[0m                                 Traceback (most recent call last)",
      "\u001b[1;32m<ipython-input-57-7f6f431cb2f6>\u001b[0m in \u001b[0;36m<module>\u001b[1;34m()\u001b[0m\n\u001b[1;32m----> 1\u001b[1;33m \u001b[0mglobal_phase\u001b[0m\u001b[1;33m(\u001b[0m\u001b[1;36m3\u001b[0m\u001b[1;33m,\u001b[0m \u001b[0mλ\u001b[0m\u001b[1;33m)\u001b[0m\u001b[1;33m\u001b[0m\u001b[0m\n\u001b[0m",
      "\u001b[1;31mNameError\u001b[0m: name 'global_phase' is not defined"
     ]
    }
   ],
   "source": [
    "global_phase(3, λ)"
   ]
  },
  {
   "cell_type": "code",
   "execution_count": 65,
   "metadata": {
    "collapsed": false
   },
   "outputs": [
    {
     "data": {
      "text/plain": [
       "array([ 0.25   ,  0.375  ,  0.28125,  0.09375])"
      ]
     },
     "execution_count": 65,
     "metadata": {},
     "output_type": "execute_result"
    }
   ],
   "source": [
    "convex_param(np.array([np.pi/3, np.pi/4, np.pi/6]))"
   ]
  },
  {
   "cell_type": "code",
   "execution_count": 62,
   "metadata": {
    "collapsed": false
   },
   "outputs": [
    {
     "data": {
      "text/plain": [
       "array([[ 1.,  0.,  0.,  0.],\n",
       "       [ 0.,  0.,  0.,  0.],\n",
       "       [ 0.,  0.,  0.,  0.],\n",
       "       [ 0.,  0.,  0.,  0.]])"
      ]
     },
     "execution_count": 62,
     "metadata": {},
     "output_type": "execute_result"
    }
   ],
   "source": [
    "P_l(0, 4)"
   ]
  },
  {
   "cell_type": "code",
   "execution_count": null,
   "metadata": {
    "collapsed": true
   },
   "outputs": [],
   "source": []
  }
 ],
 "metadata": {
  "kernelspec": {
   "display_name": "Python 3",
   "language": "python",
   "name": "python3"
  },
  "language_info": {
   "codemirror_mode": {
    "name": "ipython",
    "version": 3
   },
   "file_extension": ".py",
   "mimetype": "text/x-python",
   "name": "python",
   "nbconvert_exporter": "python",
   "pygments_lexer": "ipython3",
   "version": "3.4.3"
  }
 },
 "nbformat": 4,
 "nbformat_minor": 0
}
