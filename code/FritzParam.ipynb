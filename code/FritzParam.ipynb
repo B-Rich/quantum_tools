{
 "cells": [
  {
   "cell_type": "code",
   "execution_count": 1,
   "metadata": {
    "collapsed": true
   },
   "outputs": [],
   "source": [
    "%matplotlib notebook\n",
    "%load_ext autoreload\n",
    "%autoreload 2"
   ]
  },
  {
   "cell_type": "code",
   "execution_count": 11,
   "metadata": {
    "collapsed": true
   },
   "outputs": [],
   "source": [
    "from quantum_tools.examples import symbolic_contexts\n",
    "from quantum_tools.symmetries.workspace import get_contraction_elements\n",
    "from quantum_tools.examples.prob_dists import *\n",
    "from quantum_tools.utilities.job_queuer_async import JobContext\n",
    "from quantum_tools.config import *\n",
    "from quantum_tools.visualization.hypergraph import *\n",
    "from quantum_tools.visualization.transversal_inequalities import *\n",
    "from quantum_tools.hypergraph.hypergraph_transversals import *\n",
    "from quantum_tools.hypergraph.inequalities import *\n",
    "from quantum_tools.utilities import rmt\n",
    "from scipy import sparse\n",
    "import numpy as np\n",
    "from scipy import io\n",
    "import os\n",
    "from functools import reduce\n",
    "from operator import mul"
   ]
  },
  {
   "cell_type": "code",
   "execution_count": 6,
   "metadata": {
    "collapsed": true
   },
   "outputs": [],
   "source": [
    "rvc = RandomVariableCollection.new(('A', 'B', 'C'), (4, 4, 4))"
   ]
  },
  {
   "cell_type": "code",
   "execution_count": 49,
   "metadata": {
    "collapsed": true
   },
   "outputs": [],
   "source": [
    "def basis_to_param(basis):\n",
    "    U = np.hstack((np.kron(i, j) for i, j in basis))\n",
    "    return np.append(U.real.flatten(), U.imag.flatten())"
   ]
  },
  {
   "cell_type": "code",
   "execution_count": 7,
   "metadata": {
    "collapsed": false
   },
   "outputs": [],
   "source": [
    "ei = utils.ei\n",
    "pi = np.pi\n",
    "perm = utils.get_triangle_permutation()\n",
    "\n",
    "# === RHS A ===\n",
    "# Eigenvectors of sigma_x\n",
    "e_x_0 = (qb0 + qb1)/(sqrt2)\n",
    "e_x_1 = (-qb0 + qb1)/(sqrt2)\n",
    "# Eigenvectors of sigma_y\n",
    "e_y_0 = (i*qb0 + qb1)/(sqrt2)\n",
    "e_y_1 = (-i*qb0 + qb1)/(sqrt2)\n",
    "# =============\n",
    "\n",
    "# === LHS B ===\n",
    "# Eigenvectors of -(sigma_y + sigma_x)/sqrt2\n",
    "e_yx_0 = (ei(-3/4*pi)*qb0 + qb1)/(sqrt2)\n",
    "e_yx_1 = (ei(1/4*pi)*qb0 + qb1)/(sqrt2)\n",
    "# Eigenvectors of (sigma_y - sigma_x)/sqrt2\n",
    "e_xy_0 = (ei(-1/4*pi)*qb0 + qb1)/(sqrt2)\n",
    "e_xy_1 = (ei(-5/4*pi)*qb0 + qb1)/(sqrt2)\n",
    "# =============\n",
    "\n",
    "rho0 = utils.ket_to_dm(qb0)\n",
    "rho1 = utils.ket_to_dm(qb1)\n",
    "\n",
    "# phi0 = utils.ket_to_dm(e3)\n",
    "# phi1 = utils.ket_to_dm(e4)\n",
    "# omega0 = utils.ket_to_dm(e5)\n",
    "# omega1 = utils.ket_to_dm(e6)\n",
    "\n",
    "A_measurements = [\n",
    "    utils.tensor(rho1, utils.ket_to_dm(e_y_0)),\n",
    "    utils.tensor(rho1, utils.ket_to_dm(e_y_1)),\n",
    "    utils.tensor(rho0, utils.ket_to_dm(e_x_1)),\n",
    "    utils.tensor(rho0, utils.ket_to_dm(e_x_0)),\n",
    "]\n",
    "B_measurements = [\n",
    "    utils.tensor(utils.ket_to_dm(e_xy_0), rho0),\n",
    "    utils.tensor(utils.ket_to_dm(e_xy_1), rho0),\n",
    "    utils.tensor(utils.ket_to_dm(e_yx_0), rho1),\n",
    "    utils.tensor(utils.ket_to_dm(e_yx_1), rho1),\n",
    "]\n",
    "C_measurements = [\n",
    "    utils.tensor(rho0, rho1),\n",
    "    utils.tensor(rho0, rho0),\n",
    "    utils.tensor(rho1, rho1),\n",
    "    utils.tensor(rho1, rho0),\n",
    "]\n",
    "\n",
    "A = Measurement(A_measurements)\n",
    "B = Measurement(B_measurements)\n",
    "C = Measurement(C_measurements)\n",
    "rhoAB = State.Strats.Deterministic.mebs(3)\n",
    "rhoBC = State.Strats.Deterministic.mebs(0)\n",
    "rhoAC = State.Strats.Deterministic.mebs(0)\n",
    "\n",
    "qc = QuantumContext(random_variables=rvc, measurements=(A,B,C), states=(rhoAB, rhoBC, rhoAC), permutation=perm.T)\n",
    "pd = QuantumProbDist(qc)"
   ]
  },
  {
   "cell_type": "code",
   "execution_count": 92,
   "metadata": {
    "collapsed": false
   },
   "outputs": [],
   "source": [
    "param_A = basis_to_param((\n",
    "(qb1, e_y_0),\n",
    "(qb1, e_y_1),\n",
    "(qb0, e_x_1),\n",
    "(qb0, e_x_0),\n",
    "))\n",
    "param_B = basis_to_param((\n",
    "(e_xy_0, qb0),\n",
    "(e_xy_1, qb0),\n",
    "(e_yx_0, qb1),\n",
    "(e_yx_1, qb1),\n",
    "))\n",
    "param_C = basis_to_param((\n",
    "(qb0, qb1),\n",
    "(qb0, qb0),\n",
    "(qb1, qb1),\n",
    "(qb1, qb0),\n",
    "))\n",
    "param_ABC = np.hstack((param_A, param_B, param_C))"
   ]
  },
  {
   "cell_type": "code",
   "execution_count": 91,
   "metadata": {
    "collapsed": false
   },
   "outputs": [
    {
     "name": "stdout",
     "output_type": "stream",
     "text": [
      "True\n",
      "True\n",
      "True\n"
     ]
    }
   ],
   "source": [
    "AB_param = np.array([0,0,0,0,0,0,-1/sqrt2,0,+1/sqrt2,0,0,0,0,0,0,0])\n",
    "BC_param = np.array([0,0,0,0,0,0,0,0,0,+1/sqrt2,0,0,0,0,0,+1/sqrt2])\n",
    "AC_param = np.array([0,0,0,0,0,0,0,0,0,+1/sqrt2,0,0,0,0,0,+1/sqrt2])\n",
    "\n",
    "print(np.allclose(rhoAB.data, utils.cholesky(AB_param)))\n",
    "print(np.allclose(rhoBC.data, utils.cholesky(BC_param)))\n",
    "print(np.allclose(rhoAC.data, utils.cholesky(AC_param)))\n",
    "\n",
    "param_rho = np.hstack((AB_param,BC_param,AC_param))"
   ]
  },
  {
   "cell_type": "code",
   "execution_count": 95,
   "metadata": {
    "collapsed": false
   },
   "outputs": [
    {
     "data": {
      "text/plain": [
       "array([ 0.     ,  0.     , -0.70711,  0.70711,  0.     ,  0.     ,  0.70711,  0.70711,  0.     ,  0.     , -0.     ,\n",
       "        0.     ,  0.70711,  0.70711,  0.     ,  0.     ,  0.     ,  0.     ,  0.     ,  0.     ,  0.     ,  0.     ,\n",
       "        0.     ,  0.     ,  0.70711, -0.70711,  0.     ,  0.     ,  0.     ,  0.     ,  0.     ,  0.     ,  0.5    ,\n",
       "       -0.5    ,  0.     ,  0.     ,  0.     , -0.     , -0.5    ,  0.5    ,  0.70711,  0.70711,  0.     ,  0.     ,\n",
       "        0.     ,  0.     ,  0.70711,  0.70711, -0.5    ,  0.5    , -0.     ,  0.     ,  0.     ,  0.     , -0.5    ,\n",
       "        0.5    ,  0.     ,  0.     ,  0.     ,  0.     ,  0.     ,  0.     ,  0.     ,  0.     ,  0.     ,  1.     ,\n",
       "        0.     ,  0.     ,  1.     ,  0.     ,  0.     ,  0.     ,  0.     ,  0.     ,  0.     ,  1.     ,  0.     ,\n",
       "        0.     ,  1.     ,  0.     ,  0.     ,  0.     ,  0.     ,  0.     ,  0.     ,  0.     ,  0.     ,  0.     ,\n",
       "        0.     ,  0.     ,  0.     ,  0.     ,  0.     ,  0.     ,  0.     ,  0.     ,  0.     ,  0.     ,  0.     ,\n",
       "        0.     ,  0.     ,  0.     , -0.70711,  0.     ,  0.70711,  0.     ,  0.     ,  0.     ,  0.     ,  0.     ,\n",
       "        0.     ,  0.     ,  0.     ,  0.     ,  0.     ,  0.     ,  0.     ,  0.     ,  0.     ,  0.     ,  0.     ,\n",
       "        0.70711,  0.     ,  0.     ,  0.     ,  0.     ,  0.     ,  0.70711,  0.     ,  0.     ,  0.     ,  0.     ,\n",
       "        0.     ,  0.     ,  0.     ,  0.     ,  0.     ,  0.70711,  0.     ,  0.     ,  0.     ,  0.     ,  0.     ,\n",
       "        0.70711])"
      ]
     },
     "execution_count": 95,
     "metadata": {},
     "output_type": "execute_result"
    }
   ],
   "source": [
    "np.hstack((param_ABC, param_rho))"
   ]
  },
  {
   "cell_type": "code",
   "execution_count": 93,
   "metadata": {
    "collapsed": false
   },
   "outputs": [
    {
     "name": "stdout",
     "output_type": "stream",
     "text": [
      "=== ProbDist ===\n",
      "RandomVariableCollection\n",
      "3 Random Variables:\n",
      "Outcomes: 64 = 4^3\n",
      "A -> [0, 1, 2, 3]\n",
      "B -> [0, 1, 2, 3]\n",
      "C -> [0, 1, 2, 3]\n",
      "16 Achievable outcomes.\n",
      "{outcome} -> {probability}\n",
      "[0, 0, 0] -> 0.1066941738241591\n",
      "[0, 1, 0] -> 0.018305826175840763\n",
      "[0, 2, 2] -> 0.1066941738241591\n",
      "[0, 3, 2] -> 0.018305826175840756\n",
      "[1, 0, 0] -> 0.018305826175840756\n",
      "[1, 1, 0] -> 0.1066941738241591\n",
      "[1, 2, 2] -> 0.01830582617584075\n",
      "[1, 3, 2] -> 0.1066941738241591\n",
      "[2, 0, 1] -> 0.1066941738241591\n",
      "[2, 1, 1] -> 0.01830582617584075\n",
      "[2, 2, 3] -> 0.018305826175840756\n",
      "[2, 3, 3] -> 0.1066941738241591\n",
      "[3, 0, 1] -> 0.01830582617584075\n",
      "[3, 1, 1] -> 0.10669417382415913\n",
      "[3, 2, 3] -> 0.1066941738241591\n",
      "[3, 3, 3] -> 0.01830582617584075\n",
      "================\n"
     ]
    }
   ],
   "source": [
    "print(pd)"
   ]
  }
 ],
 "metadata": {
  "kernelspec": {
   "display_name": "Python 3",
   "language": "python",
   "name": "python3"
  },
  "language_info": {
   "codemirror_mode": {
    "name": "ipython",
    "version": 3
   },
   "file_extension": ".py",
   "mimetype": "text/x-python",
   "name": "python",
   "nbconvert_exporter": "python",
   "pygments_lexer": "ipython3",
   "version": "3.4.3"
  }
 },
 "nbformat": 4,
 "nbformat_minor": 0
}
