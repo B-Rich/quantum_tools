{
 "cells": [
  {
   "cell_type": "markdown",
   "metadata": {},
   "source": [
    "## Dimensionally of The States/Measurements"
   ]
  },
  {
   "cell_type": "markdown",
   "metadata": {},
   "source": [
    "If $d$ is the dimension, a single state is a $d$-vector, making a two party state $d^2$ vector.\n",
    "\n",
    "With three states, thats a joint state of $(d^2)^3 = d^6$ size.\n",
    "\n",
    "For $d=2$, thats a $2^6 = 64$ by $64$ matrix with $d^{12} = 4096$ entries.\n",
    "\n",
    "| $d$ | $d^{12}$ | $d^{18}$ |\n",
    "|-|-|-|\n",
    "|1|1|1|\n",
    "|2|4096|262144|\n",
    "|3|531441|387420489|\n",
    "|4|16777216|68719476736|\n",
    "\n",
    "But the matrix multiplication requires $\\mathcal{O}(n^3)$ operations (multiplications, additions). So it's more like $d^{18}$."
   ]
  },
  {
   "cell_type": "markdown",
   "metadata": {},
   "source": [
    "## Trivial Inequality"
   ]
  },
  {
   "cell_type": "markdown",
   "metadata": {},
   "source": [
    "$$P(A_0B_0C_0)P(A_0B_0C_0) \\leq P(A_0)P(B_0)P(C_0) + P(A_0)P(B_1)P(C_0) + P(A_0)P(B_2)P(C_0) + P(A_0)P(B_3)P(C_0)$$\n",
    "\n",
    "Say $P(B_0) = 1$:\n",
    "\n",
    "$$P(A_0C_0)P(A_0C_0) \\leq P(A_0)P(C_0)$$\n",
    "\n",
    "**Always** satisfied."
   ]
  },
  {
   "cell_type": "markdown",
   "metadata": {},
   "source": [
    "## Ideas on Independence"
   ]
  },
  {
   "cell_type": "markdown",
   "metadata": {},
   "source": [
    "Consider the following inequality:\n",
    "\n",
    "$P(A_0B_0C_0)P(A_0B_0C_0) \\leq P(A_0B_0C_1)P(A_0B_1C_3) + P(A_0)P(B_1)P(C_0) + P(A_0)P(B_0)P(C_1) + 2P(A_0)P(B_0)P(C_2) + 3P(A_0)P(B_0)P(C_0) + 2P(A_0)P(B_2)P(C_0) + 2P(A_0)P(B_3)P(C_0) + P(A_0)P(B_0)P(C_3)$\n",
    "\n",
    "All of the right hand terms can be made zero rather easily by setting $P(A_1) = P(B_2) = \\cdots = 0$.\n",
    "\n",
    "What remains is the inequality:\n",
    "\n",
    "$P(A_0B_0C_0)P(A_0B_0C_0) \\leq 3P(A_0)P(B_0)P(C_0) + k \\quad k \\geq 0$\n",
    "\n",
    "Since *every deterministic distribution* is compatible with the triangle DAG, terms of the form above are **always** present.\n",
    "\n",
    "Therefore, *if* the distributions are mutually independent, then it's compatible since,\n",
    "\n",
    "$P(A_0B_0C_0)P(A_0B_0C_0) = [P(A_0)P(B_0)P(C_0)]^2 = q^2$\n",
    "\n",
    "And one always has that:\n",
    "\n",
    "$q^2 \\leq aq + k$\n",
    "\n",
    "Where $0 \\leq q \\leq 1$ and $a \\in \\mathbb{N}$.\n",
    "\n",
    "Therefore *any* violation of in the hardy sense needs to be at least a dependent distribution."
   ]
  },
  {
   "cell_type": "markdown",
   "metadata": {},
   "source": [
    "#### Misc Code"
   ]
  },
  {
   "cell_type": "code",
   "execution_count": 1,
   "metadata": {
    "collapsed": true
   },
   "outputs": [],
   "source": [
    "def random_sample_test(num, fts):\n",
    "    for i in range(num):\n",
    "        pd, qc = uniform_sample_qdistro(rvc)\n",
    "        targets = pd_to_many_ineq_target(pd, fts)\n",
    "#         print(targets)\n",
    "        if np.any(targets < 0):\n",
    "#             print(targets[np.where(targets < 0)])\n",
    "            print(qc)\n",
    "            break\n",
    "        else:\n",
    "            print(targets.min())\n",
    "            \n",
    "def test_indef(fts):\n",
    "    tests = 0\n",
    "    diff = 25000\n",
    "    while True:\n",
    "        pd, qc = uniform_sample_qdistro(rvc)\n",
    "        targets = pd_to_many_ineq_target(pd, fts)\n",
    "        if np.any(targets < 0):\n",
    "            print(qc)\n",
    "            return qc\n",
    "        pre_tests = tests\n",
    "        tests += len(targets)\n",
    "        if tests // diff != pre_tests // diff:\n",
    "            print(tests)\n",
    "            \n",
    "def any_violations(ndarray):\n",
    "    return ndarray[np.where(ndarray < 0)]"
   ]
  },
  {
   "cell_type": "code",
   "execution_count": null,
   "metadata": {
    "collapsed": true
   },
   "outputs": [],
   "source": []
  }
 ],
 "metadata": {
  "kernelspec": {
   "display_name": "Python 3",
   "language": "python",
   "name": "python3"
  },
  "language_info": {
   "codemirror_mode": {
    "name": "ipython",
    "version": 3
   },
   "file_extension": ".py",
   "mimetype": "text/x-python",
   "name": "python",
   "nbconvert_exporter": "python",
   "pygments_lexer": "ipython3",
   "version": "3.4.3"
  }
 },
 "nbformat": 4,
 "nbformat_minor": 0
}
