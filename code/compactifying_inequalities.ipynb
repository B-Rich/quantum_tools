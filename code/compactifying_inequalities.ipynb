{
 "cells": [
  {
   "cell_type": "code",
   "execution_count": 4,
   "metadata": {
    "collapsed": true
   },
   "outputs": [],
   "source": [
    "%reload_ext autoreload"
   ]
  },
  {
   "cell_type": "code",
   "execution_count": 3,
   "metadata": {
    "collapsed": true
   },
   "outputs": [],
   "source": [
    "%matplotlib notebook\n",
    "%load_ext autoreload\n",
    "%autoreload 2"
   ]
  },
  {
   "cell_type": "code",
   "execution_count": 5,
   "metadata": {
    "collapsed": true
   },
   "outputs": [],
   "source": [
    "from quantum_tools.examples import symbolic_contexts\n",
    "from quantum_tools.symmetries.workspace import get_contraction_elements\n",
    "from quantum_tools.examples.prob_dists import *\n",
    "from quantum_tools.utilities.job_queuer_async import JobContext\n",
    "from quantum_tools.utilities.constants import *\n",
    "from quantum_tools.config import *\n",
    "from quantum_tools.visualization.hypergraph import *\n",
    "from quantum_tools.visualization.transversal_inequalities import *\n",
    "from quantum_tools.visualization.triangle_plot import *\n",
    "from quantum_tools.hypergraph.hypergraph_transversals import *\n",
    "from quantum_tools.hypergraph.inequalities import *\n",
    "from quantum_tools.contexts.measurement import *\n",
    "from quantum_tools.contexts.quantum_caller import *\n",
    "# from quantum_tools.inflation.positive_linear_solve import *\n",
    "from quantum_tools.contexts.state import *\n",
    "from quantum_tools.contexts.quantum_context import *\n",
    "from scipy import sparse, optimize\n",
    "import numpy as np\n",
    "from quantum_tools.rmt import rmt\n",
    "import math\n",
    "from scipy import io\n",
    "from cmath import exp\n",
    "import os\n",
    "from itertools import product, combinations, permutations, combinations_with_replacement\n",
    "from functools import reduce\n",
    "from operator import mul, itemgetter"
   ]
  },
  {
   "cell_type": "code",
   "execution_count": 6,
   "metadata": {
    "collapsed": true
   },
   "outputs": [],
   "source": [
    "import matplotlib as mpl\n",
    "mpl.rcParams['figure.max_open_warning'] = False"
   ]
  },
  {
   "cell_type": "markdown",
   "metadata": {},
   "source": [
    "## Example\n",
    "#### Taken From Wagon Wheel Antecedent 12 Canonical Minimalization"
   ]
  },
  {
   "cell_type": "code",
   "execution_count": 7,
   "metadata": {
    "collapsed": true
   },
   "outputs": [],
   "source": [
    "example = 'P_{ABC}(000)P_{C}(3) \\\\leq 2P_{ABC}(203)P_{C}(0) + 2P_{ABC}(303)P_{C}(0) + P_{ABC}(003)P_{C}(0) + P_{ABC}(013)P_{C}(0) + P_{ABC}(020)P_{C}(2) + P_{ABC}(022)P_{C}(2) + P_{ABC}(023)P_{C}(0) + P_{ABC}(023)P_{C}(2) + P_{ABC}(030)P_{C}(2) + P_{ABC}(031)P_{C}(2) + P_{ABC}(032)P_{C}(2) + P_{ABC}(033)P_{C}(0) + P_{ABC}(033)P_{C}(2) + P_{ABC}(103)P_{C}(0) + P_{ABC}(113)P_{C}(0) + P_{ABC}(123)P_{C}(0) + P_{ABC}(133)P_{C}(0) + P_{ABC}(200)P_{C}(0) + P_{ABC}(200)P_{C}(1) + P_{ABC}(200)P_{C}(2) + P_{ABC}(200)P_{C}(3) + P_{ABC}(201)P_{C}(0) + P_{ABC}(201)P_{C}(1) + P_{ABC}(201)P_{C}(2) + P_{ABC}(201)P_{C}(3) + P_{ABC}(203)P_{C}(1) + P_{ABC}(203)P_{C}(2) + P_{ABC}(203)P_{C}(3) + P_{ABC}(213)P_{C}(0) + P_{ABC}(223)P_{C}(0) + P_{ABC}(300)P_{C}(0) + P_{ABC}(300)P_{C}(1) + P_{ABC}(300)P_{C}(2) + P_{ABC}(300)P_{C}(3) + P_{ABC}(301)P_{C}(0) + P_{ABC}(301)P_{C}(1) + P_{ABC}(301)P_{C}(2) + P_{ABC}(301)P_{C}(3) + P_{ABC}(302)P_{C}(1) + P_{ABC}(303)P_{C}(1) + P_{ABC}(303)P_{C}(2) + P_{ABC}(303)P_{C}(3) + P_{ABC}(313)P_{C}(0)'"
   ]
  },
  {
   "cell_type": "code",
   "execution_count": 90,
   "metadata": {
    "collapsed": false
   },
   "outputs": [
    {
     "data": {
      "text/plain": [
       "'P_{ABC}(000)P_{C}(3) \\\\leq 2P_{ABC}(203)P_{C}(0) + 2P_{ABC}(303)P_{C}(0) + P_{ABC}(003)P_{C}(0) + P_{ABC}(013)P_{C}(0) + P_{ABC}(020)P_{C}(2) + P_{ABC}(022)P_{C}(2) + P_{ABC}(023)P_{C}(0) + P_{ABC}(023)P_{C}(2) + P_{ABC}(030)P_{C}(2) + P_{ABC}(031)P_{C}(2) + P_{ABC}(032)P_{C}(2) + P_{ABC}(033)P_{C}(0) + P_{ABC}(033)P_{C}(2) + P_{ABC}(103)P_{C}(0) + P_{ABC}(113)P_{C}(0) + P_{ABC}(123)P_{C}(0) + P_{ABC}(133)P_{C}(0) + P_{ABC}(200)P_{C}(0) + P_{ABC}(200)P_{C}(1) + P_{ABC}(200)P_{C}(2) + P_{ABC}(200)P_{C}(3) + P_{ABC}(201)P_{C}(0) + P_{ABC}(201)P_{C}(1) + P_{ABC}(201)P_{C}(2) + P_{ABC}(201)P_{C}(3) + P_{ABC}(203)P_{C}(1) + P_{ABC}(203)P_{C}(2) + P_{ABC}(203)P_{C}(3) + P_{ABC}(213)P_{C}(0) + P_{ABC}(223)P_{C}(0) + P_{ABC}(300)P_{C}(0) + P_{ABC}(300)P_{C}(1) + P_{ABC}(300)P_{C}(2) + P_{ABC}(300)P_{C}(3) + P_{ABC}(301)P_{C}(0) + P_{ABC}(301)P_{C}(1) + P_{ABC}(301)P_{C}(2) + P_{ABC}(301)P_{C}(3) + P_{ABC}(302)P_{C}(1) + P_{ABC}(303)P_{C}(1) + P_{ABC}(303)P_{C}(2) + P_{ABC}(303)P_{C}(3) + P_{ABC}(313)P_{C}(0)'"
      ]
     },
     "execution_count": 90,
     "metadata": {},
     "output_type": "execute_result"
    }
   ],
   "source": [
    "example"
   ]
  },
  {
   "cell_type": "code",
   "execution_count": 8,
   "metadata": {
    "collapsed": false
   },
   "outputs": [
    {
     "data": {
      "text/latex": [
       "$P_{ABC}(000)P_{C}(3) \\leq 2P_{ABC}(203)P_{C}(0) + 2P_{ABC}(303)P_{C}(0) + P_{ABC}(003)P_{C}(0) + P_{ABC}(013)P_{C}(0) + P_{ABC}(020)P_{C}(2) + P_{ABC}(022)P_{C}(2) + P_{ABC}(023)P_{C}(0) + P_{ABC}(023)P_{C}(2) + P_{ABC}(030)P_{C}(2) + P_{ABC}(031)P_{C}(2) + P_{ABC}(032)P_{C}(2) + P_{ABC}(033)P_{C}(0) + P_{ABC}(033)P_{C}(2) + P_{ABC}(103)P_{C}(0) + P_{ABC}(113)P_{C}(0) + P_{ABC}(123)P_{C}(0) + P_{ABC}(133)P_{C}(0) + P_{ABC}(200)P_{C}(0) + P_{ABC}(200)P_{C}(1) + P_{ABC}(200)P_{C}(2) + P_{ABC}(200)P_{C}(3) + P_{ABC}(201)P_{C}(0) + P_{ABC}(201)P_{C}(1) + P_{ABC}(201)P_{C}(2) + P_{ABC}(201)P_{C}(3) + P_{ABC}(203)P_{C}(1) + P_{ABC}(203)P_{C}(2) + P_{ABC}(203)P_{C}(3) + P_{ABC}(213)P_{C}(0) + P_{ABC}(223)P_{C}(0) + P_{ABC}(300)P_{C}(0) + P_{ABC}(300)P_{C}(1) + P_{ABC}(300)P_{C}(2) + P_{ABC}(300)P_{C}(3) + P_{ABC}(301)P_{C}(0) + P_{ABC}(301)P_{C}(1) + P_{ABC}(301)P_{C}(2) + P_{ABC}(301)P_{C}(3) + P_{ABC}(302)P_{C}(1) + P_{ABC}(303)P_{C}(1) + P_{ABC}(303)P_{C}(2) + P_{ABC}(303)P_{C}(3) + P_{ABC}(313)P_{C}(0)$"
      ],
      "text/plain": [
       "<quantum_tools.visualization.transversal_inequalities.Latex at 0x6fffda88be0>"
      ]
     },
     "execution_count": 8,
     "metadata": {},
     "output_type": "execute_result"
    }
   ],
   "source": [
    "Latex(*[example])"
   ]
  },
  {
   "cell_type": "code",
   "execution_count": 20,
   "metadata": {
    "collapsed": true
   },
   "outputs": [],
   "source": [
    "example_lhs_modified = [\n",
    "    'P_{ABC}(000)P_{C}(3)',\n",
    "]\n",
    "example_rhs_modified = [\n",
    "    '2P_{ABC}(203)P_{C}(0)',\n",
    "    '2P_{ABC}(303)P_{C}(0)',\n",
    "    'P_{ABC}(003)P_{C}(0)',\n",
    "    'P_{ABC}(013)P_{C}(0)',\n",
    "    'P_{ABC}(020)P_{C}(2)',\n",
    "    'P_{ABC}(022)P_{C}(2)',\n",
    "    'P_{ABC}(023)P_{C}(0)',\n",
    "    'P_{ABC}(023)P_{C}(2)',\n",
    "    'P_{ABC}(030)P_{C}(2)',\n",
    "    'P_{ABC}(031)P_{C}(2)',\n",
    "    'P_{ABC}(032)P_{C}(2)',\n",
    "    'P_{ABC}(033)P_{C}(0)',\n",
    "    'P_{ABC}(033)P_{C}(2)',\n",
    "    'P_{AC}(13)P_{C}(0)',\n",
    "    'P_{ABC}(200)',\n",
    "    'P_{ABC}(201)',\n",
    "    'P_{ABC}(203)P_{C}(1)',\n",
    "    'P_{ABC}(203)P_{C}(2)',\n",
    "    'P_{ABC}(203)P_{C}(3)',\n",
    "    'P_{ABC}(213)P_{C}(0)',\n",
    "    'P_{ABC}(223)P_{C}(0)',\n",
    "    'P_{ABC}(300)',\n",
    "    'P_{ABC}(301)',\n",
    "    'P_{ABC}(302)P_{C}(1)',\n",
    "    'P_{ABC}(303)P_{C}(1)',\n",
    "    'P_{ABC}(303)P_{C}(2)',\n",
    "    'P_{ABC}(303)P_{C}(3)',\n",
    "    'P_{ABC}(313)P_{C}(0)',\n",
    "]"
   ]
  },
  {
   "cell_type": "code",
   "execution_count": 47,
   "metadata": {
    "collapsed": true
   },
   "outputs": [],
   "source": [
    "example_lhs_modified = [\n",
    "    'P_{ABC}(000)P_{C}(3)',\n",
    "    'P_{ABC}(021)P_{C}(2)',\n",
    "    'P_{ABC}(202)',\n",
    "    'P_{ABC}(302)',\n",
    "    'P_{ABC}(233)P_{C}(0)',\n",
    "    'P_{AC}(33)P_{C}(0)',\n",
    "]\n",
    "example_rhs_modified = [\n",
    "    'P_{ABC}(303)P_{C}(0)',\n",
    "    'P_{ABC}(313)P_{C}(0)',\n",
    "    'P_{ABC}(302)P_{C}(1)',\n",
    "    'P_{AB}(02)P_{C}(2)',\n",
    "    'P_{AB}(03)P_{C}(2)',\n",
    "    'P_{AB}(20)',\n",
    "    'P_{AB}(30)',\n",
    "    'P_{C}(3)P_{C}(0)',\n",
    "]"
   ]
  },
  {
   "cell_type": "code",
   "execution_count": 91,
   "metadata": {
    "collapsed": false
   },
   "outputs": [
    {
     "data": {
      "text/plain": [
       "'P_{ABC}(000)P_{C}(3) + P_{ABC}(021)P_{C}(2) + P_{ABC}(202) + P_{ABC}(302) + P_{ABC}(233)P_{C}(0) + P_{AC}(33)P_{C}(0) \\\\leq P_{ABC}(303)P_{C}(0) + P_{ABC}(313)P_{C}(0) + P_{ABC}(302)P_{C}(1) + P_{AB}(02)P_{C}(2) + P_{AB}(03)P_{C}(2) + P_{AB}(20) + P_{AB}(30) + P_{C}(3)P_{C}(0)'"
      ]
     },
     "execution_count": 91,
     "metadata": {},
     "output_type": "execute_result"
    }
   ],
   "source": [
    "' + '.join(example_lhs_modified) + ' \\\\leq ' + ' + '.join(example_rhs_modified)"
   ]
  },
  {
   "cell_type": "markdown",
   "metadata": {},
   "source": [
    "#### Taken From Wagon Wheel Antecedent 12 NO Minimalization"
   ]
  },
  {
   "cell_type": "code",
   "execution_count": 50,
   "metadata": {
    "collapsed": true
   },
   "outputs": [],
   "source": [
    "example_full = 'P_{ABC}(000)P_{C}(3) \\\\leq 2P_{ABC}(001)P_{C}(0) + 2P_{ABC}(001)P_{C}(1) + 2P_{ABC}(001)P_{C}(2) + 2P_{ABC}(001)P_{C}(3) + 2P_{ABC}(002)P_{C}(0) + 2P_{ABC}(002)P_{C}(1) + 2P_{ABC}(002)P_{C}(2) + 2P_{ABC}(002)P_{C}(3) + 2P_{ABC}(003)P_{C}(1) + 2P_{ABC}(003)P_{C}(2) + 2P_{ABC}(003)P_{C}(3) + 2P_{ABC}(013)P_{C}(0) + 2P_{ABC}(023)P_{C}(0) + 2P_{ABC}(033)P_{C}(0) + 2P_{ABC}(103)P_{C}(0) + 2P_{ABC}(203)P_{C}(0) + 2P_{ABC}(303)P_{C}(0) + 3P_{ABC}(003)P_{C}(0) + P_{ABC}(011)P_{C}(0) + P_{ABC}(011)P_{C}(1) + P_{ABC}(011)P_{C}(2) + P_{ABC}(011)P_{C}(3) + P_{ABC}(012)P_{C}(0) + P_{ABC}(012)P_{C}(1) + P_{ABC}(012)P_{C}(2) + P_{ABC}(012)P_{C}(3) + P_{ABC}(013)P_{C}(1) + P_{ABC}(013)P_{C}(2) + P_{ABC}(013)P_{C}(3) + P_{ABC}(020)P_{C}(0) + P_{ABC}(020)P_{C}(1) + P_{ABC}(020)P_{C}(2) + P_{ABC}(020)P_{C}(3) + P_{ABC}(022)P_{C}(0) + P_{ABC}(022)P_{C}(1) + P_{ABC}(022)P_{C}(2) + P_{ABC}(022)P_{C}(3) + P_{ABC}(023)P_{C}(1) + P_{ABC}(023)P_{C}(2) + P_{ABC}(023)P_{C}(3) + P_{ABC}(030)P_{C}(0) + P_{ABC}(030)P_{C}(1) + P_{ABC}(030)P_{C}(2) + P_{ABC}(030)P_{C}(3) + P_{ABC}(031)P_{C}(2) + P_{ABC}(032)P_{C}(0) + P_{ABC}(032)P_{C}(1) + P_{ABC}(032)P_{C}(2) + P_{ABC}(032)P_{C}(3) + P_{ABC}(033)P_{C}(1) + P_{ABC}(033)P_{C}(2) + P_{ABC}(033)P_{C}(3) + P_{ABC}(101)P_{C}(0) + P_{ABC}(101)P_{C}(1) + P_{ABC}(101)P_{C}(2) + P_{ABC}(101)P_{C}(3) + P_{ABC}(102)P_{C}(0) + P_{ABC}(102)P_{C}(1) + P_{ABC}(102)P_{C}(2) + P_{ABC}(102)P_{C}(3) + P_{ABC}(103)P_{C}(1) + P_{ABC}(103)P_{C}(2) + P_{ABC}(103)P_{C}(3) + P_{ABC}(113)P_{C}(0) + P_{ABC}(123)P_{C}(0) + P_{ABC}(133)P_{C}(0) + P_{ABC}(200)P_{C}(0) + P_{ABC}(200)P_{C}(1) + P_{ABC}(200)P_{C}(2) + P_{ABC}(200)P_{C}(3) + P_{ABC}(201)P_{C}(0) + P_{ABC}(201)P_{C}(1) + P_{ABC}(201)P_{C}(2) + P_{ABC}(201)P_{C}(3) + P_{ABC}(203)P_{C}(1) + P_{ABC}(203)P_{C}(2) + P_{ABC}(203)P_{C}(3) + P_{ABC}(213)P_{C}(0) + P_{ABC}(223)P_{C}(0) + P_{ABC}(300)P_{C}(0) + P_{ABC}(300)P_{C}(1) + P_{ABC}(300)P_{C}(2) + P_{ABC}(300)P_{C}(3) + P_{ABC}(301)P_{C}(0) + P_{ABC}(301)P_{C}(1) + P_{ABC}(301)P_{C}(2) + P_{ABC}(301)P_{C}(3) + P_{ABC}(302)P_{C}(1) + P_{ABC}(303)P_{C}(1) + P_{ABC}(303)P_{C}(2) + P_{ABC}(303)P_{C}(3) + P_{ABC}(313)P_{C}(0)'"
   ]
  },
  {
   "cell_type": "code",
   "execution_count": 54,
   "metadata": {
    "collapsed": false
   },
   "outputs": [
    {
     "data": {
      "text/plain": [
       "['P_{ABC}(000)P_{C}(3)',\n",
       " '\\\\leq',\n",
       " '2P_{ABC}(001)P_{C}(0)',\n",
       " '2P_{ABC}(001)P_{C}(1)',\n",
       " '2P_{ABC}(001)P_{C}(2)',\n",
       " '2P_{ABC}(001)P_{C}(3)',\n",
       " '2P_{ABC}(002)P_{C}(0)',\n",
       " '2P_{ABC}(002)P_{C}(1)',\n",
       " '2P_{ABC}(002)P_{C}(2)',\n",
       " '2P_{ABC}(002)P_{C}(3)',\n",
       " '2P_{ABC}(003)P_{C}(1)',\n",
       " '2P_{ABC}(003)P_{C}(2)',\n",
       " '2P_{ABC}(003)P_{C}(3)',\n",
       " '2P_{ABC}(013)P_{C}(0)',\n",
       " '2P_{ABC}(023)P_{C}(0)',\n",
       " '2P_{ABC}(033)P_{C}(0)',\n",
       " '2P_{ABC}(103)P_{C}(0)',\n",
       " '2P_{ABC}(203)P_{C}(0)',\n",
       " '2P_{ABC}(303)P_{C}(0)',\n",
       " '3P_{ABC}(003)P_{C}(0)',\n",
       " 'P_{ABC}(011)P_{C}(0)',\n",
       " 'P_{ABC}(011)P_{C}(1)',\n",
       " 'P_{ABC}(011)P_{C}(2)',\n",
       " 'P_{ABC}(011)P_{C}(3)',\n",
       " 'P_{ABC}(012)P_{C}(0)',\n",
       " 'P_{ABC}(012)P_{C}(1)',\n",
       " 'P_{ABC}(012)P_{C}(2)',\n",
       " 'P_{ABC}(012)P_{C}(3)',\n",
       " 'P_{ABC}(013)P_{C}(1)',\n",
       " 'P_{ABC}(013)P_{C}(2)',\n",
       " 'P_{ABC}(013)P_{C}(3)',\n",
       " 'P_{ABC}(020)P_{C}(0)',\n",
       " 'P_{ABC}(020)P_{C}(1)',\n",
       " 'P_{ABC}(020)P_{C}(2)',\n",
       " 'P_{ABC}(020)P_{C}(3)',\n",
       " 'P_{ABC}(022)P_{C}(0)',\n",
       " 'P_{ABC}(022)P_{C}(1)',\n",
       " 'P_{ABC}(022)P_{C}(2)',\n",
       " 'P_{ABC}(022)P_{C}(3)',\n",
       " 'P_{ABC}(023)P_{C}(1)',\n",
       " 'P_{ABC}(023)P_{C}(2)',\n",
       " 'P_{ABC}(023)P_{C}(3)',\n",
       " 'P_{ABC}(030)P_{C}(0)',\n",
       " 'P_{ABC}(030)P_{C}(1)',\n",
       " 'P_{ABC}(030)P_{C}(2)',\n",
       " 'P_{ABC}(030)P_{C}(3)',\n",
       " 'P_{ABC}(031)P_{C}(2)',\n",
       " 'P_{ABC}(032)P_{C}(0)',\n",
       " 'P_{ABC}(032)P_{C}(1)',\n",
       " 'P_{ABC}(032)P_{C}(2)',\n",
       " 'P_{ABC}(032)P_{C}(3)',\n",
       " 'P_{ABC}(033)P_{C}(1)',\n",
       " 'P_{ABC}(033)P_{C}(2)',\n",
       " 'P_{ABC}(033)P_{C}(3)',\n",
       " 'P_{ABC}(101)P_{C}(0)',\n",
       " 'P_{ABC}(101)P_{C}(1)',\n",
       " 'P_{ABC}(101)P_{C}(2)',\n",
       " 'P_{ABC}(101)P_{C}(3)',\n",
       " 'P_{ABC}(102)P_{C}(0)',\n",
       " 'P_{ABC}(102)P_{C}(1)',\n",
       " 'P_{ABC}(102)P_{C}(2)',\n",
       " 'P_{ABC}(102)P_{C}(3)',\n",
       " 'P_{ABC}(103)P_{C}(1)',\n",
       " 'P_{ABC}(103)P_{C}(2)',\n",
       " 'P_{ABC}(103)P_{C}(3)',\n",
       " 'P_{ABC}(113)P_{C}(0)',\n",
       " 'P_{ABC}(123)P_{C}(0)',\n",
       " 'P_{ABC}(133)P_{C}(0)',\n",
       " 'P_{ABC}(200)P_{C}(0)',\n",
       " 'P_{ABC}(200)P_{C}(1)',\n",
       " 'P_{ABC}(200)P_{C}(2)',\n",
       " 'P_{ABC}(200)P_{C}(3)',\n",
       " 'P_{ABC}(201)P_{C}(0)',\n",
       " 'P_{ABC}(201)P_{C}(1)',\n",
       " 'P_{ABC}(201)P_{C}(2)',\n",
       " 'P_{ABC}(201)P_{C}(3)',\n",
       " 'P_{ABC}(203)P_{C}(1)',\n",
       " 'P_{ABC}(203)P_{C}(2)',\n",
       " 'P_{ABC}(203)P_{C}(3)',\n",
       " 'P_{ABC}(213)P_{C}(0)',\n",
       " 'P_{ABC}(223)P_{C}(0)',\n",
       " 'P_{ABC}(300)P_{C}(0)',\n",
       " 'P_{ABC}(300)P_{C}(1)',\n",
       " 'P_{ABC}(300)P_{C}(2)',\n",
       " 'P_{ABC}(300)P_{C}(3)',\n",
       " 'P_{ABC}(301)P_{C}(0)',\n",
       " 'P_{ABC}(301)P_{C}(1)',\n",
       " 'P_{ABC}(301)P_{C}(2)',\n",
       " 'P_{ABC}(301)P_{C}(3)',\n",
       " 'P_{ABC}(302)P_{C}(1)',\n",
       " 'P_{ABC}(303)P_{C}(1)',\n",
       " 'P_{ABC}(303)P_{C}(2)',\n",
       " 'P_{ABC}(303)P_{C}(3)',\n",
       " 'P_{ABC}(313)P_{C}(0)']"
      ]
     },
     "execution_count": 54,
     "metadata": {},
     "output_type": "execute_result"
    }
   ],
   "source": [
    "[a for a in example_full.split() if a != '+']"
   ]
  },
  {
   "cell_type": "code",
   "execution_count": 86,
   "metadata": {
    "collapsed": true
   },
   "outputs": [],
   "source": [
    "example_full_lhs_modified = [\n",
    "    'P_{ABC}(000)P_{C}(3)',\n",
    "    'P_{ABC}(003)P_{C}(0)',\n",
    "    'P_{ABC}(103)P_{C}(0)',\n",
    "    'P_{ABC}(000)',\n",
    "    'P_{ABC}(202)',\n",
    "    'P_{ABC}(302)',\n",
    "    'P_{ABC}(100)',\n",
    "]\n",
    "example_full_rhs_modified = [\n",
    "    'P_{B}(0)',\n",
    "    'P_{AC}(03)P_{C}(0)',\n",
    "    'P_{AC}(13)P_{C}(0)',\n",
    "    'P_{AC}(02)',\n",
    "    'P_{AC}(03)',\n",
    "    'P_{BC}(03)P_{C}(0)',\n",
    "    'P_{ABC}(011)',\n",
    "    'P_{ABC}(020)',\n",
    "    'P_{ABC}(030)',\n",
    "    'P_{ABC}(001)',\n",
    "    'P_{ABC}(031)P_{C}(2)',\n",
    "    'P_{ABC}(223)P_{C}(0)',\n",
    "    'P_{ABC}(302)P_{C}(1)',\n",
    "    'P_{ABC}(213)P_{C}(0)',\n",
    "    'P_{ABC}(313)P_{C}(0)'\n",
    "]"
   ]
  },
  {
   "cell_type": "code",
   "execution_count": 92,
   "metadata": {
    "collapsed": false
   },
   "outputs": [
    {
     "data": {
      "text/plain": [
       "'P_{ABC}(000)P_{C}(3) + P_{ABC}(003)P_{C}(0) + P_{ABC}(103)P_{C}(0) + P_{ABC}(000) + P_{ABC}(202) + P_{ABC}(302) + P_{ABC}(100) \\\\leq P_{B}(0) + P_{AC}(03)P_{C}(0) + P_{AC}(13)P_{C}(0) + P_{AC}(02) + P_{AC}(03) + P_{BC}(03)P_{C}(0) + P_{ABC}(011) + P_{ABC}(020) + P_{ABC}(030) + P_{ABC}(001) + P_{ABC}(031)P_{C}(2) + P_{ABC}(223)P_{C}(0) + P_{ABC}(302)P_{C}(1) + P_{ABC}(213)P_{C}(0) + P_{ABC}(313)P_{C}(0)'"
      ]
     },
     "execution_count": 92,
     "metadata": {},
     "output_type": "execute_result"
    }
   ],
   "source": [
    "' + '.join(example_full_lhs_modified) + ' \\\\leq ' + ' + '.join(example_full_rhs_modified)"
   ]
  },
  {
   "cell_type": "code",
   "execution_count": null,
   "metadata": {
    "collapsed": true
   },
   "outputs": [],
   "source": []
  }
 ],
 "metadata": {
  "kernelspec": {
   "display_name": "Python 3",
   "language": "python",
   "name": "python3"
  },
  "language_info": {
   "codemirror_mode": {
    "name": "ipython",
    "version": 3
   },
   "file_extension": ".py",
   "mimetype": "text/x-python",
   "name": "python",
   "nbconvert_exporter": "python",
   "pygments_lexer": "ipython3",
   "version": "3.4.5"
  }
 },
 "nbformat": 4,
 "nbformat_minor": 0
}
