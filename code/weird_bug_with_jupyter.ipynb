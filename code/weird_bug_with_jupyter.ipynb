{
 "cells": [
  {
   "cell_type": "code",
   "execution_count": 1,
   "metadata": {
    "collapsed": true
   },
   "outputs": [],
   "source": [
    "%load_ext autoreload"
   ]
  },
  {
   "cell_type": "code",
   "execution_count": 2,
   "metadata": {
    "collapsed": true
   },
   "outputs": [],
   "source": [
    "%autoreload 2"
   ]
  },
  {
   "cell_type": "code",
   "execution_count": 3,
   "metadata": {
    "collapsed": false
   },
   "outputs": [],
   "source": [
    "from quantum_tools.symmetries.workspace import *\n",
    "from quantum_tools.examples import bell_scenario_inflation as bell\n",
    "from quantum_tools.statistics.variable import *"
   ]
  },
  {
   "cell_type": "code",
   "execution_count": 4,
   "metadata": {
    "collapsed": true
   },
   "outputs": [],
   "source": [
    "class Door():\n",
    "    def __init__(self):\n",
    "        self.door = True\n",
    "        \n",
    "    def __repr__(self):\n",
    "        return 'door'\n",
    "        \n",
    "def check_types(*args):\n",
    "    a = args[0]\n",
    "    kind = args[1]\n",
    "    print(a.__class__)\n",
    "    print(type(a))\n",
    "    print(isinstance(a, kind))\n",
    "    \n",
    "def argger(*args, **kwargs):\n",
    "    return args[0]"
   ]
  },
  {
   "cell_type": "code",
   "execution_count": 5,
   "metadata": {
    "collapsed": false
   },
   "outputs": [
    {
     "name": "stdout",
     "output_type": "stream",
     "text": [
      "<class '__main__.Door'>\n",
      "<class '__main__.Door'>\n",
      "True\n",
      "<class '__main__.Door'>\n",
      "<class '__main__.Door'>\n",
      "True\n"
     ]
    }
   ],
   "source": [
    "d = Door()\n",
    "check_types(d, Door)\n",
    "check_types(argger(d), Door)"
   ]
  },
  {
   "cell_type": "code",
   "execution_count": 4,
   "metadata": {
    "collapsed": false
   },
   "outputs": [],
   "source": [
    "A = RandomVariable('A', 2)\n",
    "A1 = RandomVariable('A1', ['x', 'y', 'z'])\n",
    "A2 = RandomVariable('A2', 2)\n",
    "B = RandomVariable('B', 2)\n",
    "B1 = RandomVariable('B1', 2)\n",
    "B2 = RandomVariable('B2', 2)\n",
    "\n",
    "# check_types(B, RandomVariable)\n",
    "\n",
    "AB_rvc = RandomVariableCollection([A, B, A2, A1])\n",
    "B_rvc = RandomVariableCollection(B)\n",
    "\n",
    "# print([A, B, A2, A1])\n",
    "# print(AB_rvc)\n",
    "# print(B_rvc)\n",
    "# print(AB_rvc - B_rvc)"
   ]
  },
  {
   "cell_type": "code",
   "execution_count": 5,
   "metadata": {
    "collapsed": false
   },
   "outputs": [
    {
     "data": {
      "text/latex": [
       "$$\\mathcal{R}, \\left|\\mathcal{R}\\right| = {4}, \\mathcal{O}(\\mathcal{R}) = {11 = 2^3\\cdot3}$$$$A \\rightarrow [0, 1]$$$$A_1 \\rightarrow ['x', 'y', 'z']$$$$A_2 \\rightarrow [0, 1]$$$$B \\rightarrow [0, 1]$$"
      ],
      "text/plain": [
       "RandomVariableCollection\n",
       "4 Random Variables:\n",
       "Outcomes: 11 = 2^3*3\n",
       "A -> [0, 1]\n",
       "A1 -> ['x', 'y', 'z']\n",
       "A2 -> [0, 1]\n",
       "B -> [0, 1]"
      ]
     },
     "execution_count": 5,
     "metadata": {},
     "output_type": "execute_result"
    }
   ],
   "source": [
    "AB_rvc"
   ]
  },
  {
   "cell_type": "code",
   "execution_count": 34,
   "metadata": {
    "collapsed": false
   },
   "outputs": [
    {
     "name": "stdout",
     "output_type": "stream",
     "text": [
      "[A2 -> [0, 1], B2 -> [0, 1], C2 -> [0, 1], C1 -> [0, 1], A1 -> [0, 1], B1 -> [0, 1]]\n",
      "<class 'list'>\n",
      "<class 'list'>\n",
      "False\n",
      "[A1 -> [0, 1], A2 -> [0, 1]]\n",
      "<class 'list'>\n",
      "<class 'list'>\n",
      "False\n",
      "[B1 -> [0, 1], B2 -> [0, 1]]\n",
      "<class 'list'>\n",
      "<class 'list'>\n",
      "False\n",
      "[C1 -> [0, 1], C2 -> [0, 1]]\n",
      "<class 'list'>\n",
      "<class 'list'>\n",
      "False\n",
      "[A -> [0, 1], B -> [0, 1], C -> [0, 1]]\n",
      "[A -> [0, 1], B -> [0, 1], C -> [0, 1]]\n",
      "<class 'list'>\n",
      "<class 'list'>\n",
      "False\n"
     ]
    },
    {
     "data": {
      "text/plain": [
       "frozenset({A1 -> [0, 1],\n",
       "           A2 -> [0, 1],\n",
       "           B1 -> [0, 1],\n",
       "           B2 -> [0, 1],\n",
       "           C1 -> [0, 1],\n",
       "           C2 -> [0, 1]})"
      ]
     },
     "execution_count": 34,
     "metadata": {},
     "output_type": "execute_result"
    }
   ],
   "source": [
    "bell.set_up()"
   ]
  },
  {
   "cell_type": "code",
   "execution_count": 9,
   "metadata": {
    "collapsed": false,
    "scrolled": true
   },
   "outputs": [
    {
     "data": {
      "text/plain": [
       "<function quantum_tools.symmetries.workspace.perm_bin_op>"
      ]
     },
     "execution_count": 9,
     "metadata": {},
     "output_type": "execute_result"
    }
   ],
   "source": [
    "perm_bin_op"
   ]
  },
  {
   "cell_type": "code",
   "execution_count": 2,
   "metadata": {
    "collapsed": true
   },
   "outputs": [],
   "source": [
    "group_gen = ((3, 2, 1, 0, 7, 6, 5, 4, 11, 10, 9, 8),\n",
    "             (0, 2, 1, 3, 8, 10, 9, 11, 4, 6, 5, 7),\n",
    "             (8, 9, 10, 11, 0, 1, 2, 3, 4, 5, 6, 7),\n",
    "             (0, 1, 2, 3, 5, 4, 7, 6, 10, 11, 8, 9))"
   ]
  },
  {
   "cell_type": "code",
   "execution_count": 5,
   "metadata": {
    "collapsed": false
   },
   "outputs": [],
   "source": [
    "perms = find_actions(group_gen, perm_bin_op)"
   ]
  },
  {
   "cell_type": "code",
   "execution_count": 6,
   "metadata": {
    "collapsed": false
   },
   "outputs": [
    {
     "data": {
      "text/plain": [
       "{(0, 1, 2, 3, 4, 5, 6, 7, 8, 9, 10, 11),\n",
       " (0, 1, 2, 3, 5, 4, 7, 6, 10, 11, 8, 9),\n",
       " (0, 2, 1, 3, 8, 10, 9, 11, 4, 6, 5, 7),\n",
       " (0, 2, 1, 3, 10, 8, 11, 9, 5, 7, 4, 6),\n",
       " (1, 0, 3, 2, 6, 7, 4, 5, 8, 9, 10, 11),\n",
       " (1, 0, 3, 2, 7, 6, 5, 4, 10, 11, 8, 9),\n",
       " (1, 3, 0, 2, 8, 10, 9, 11, 6, 4, 7, 5),\n",
       " (1, 3, 0, 2, 10, 8, 11, 9, 7, 5, 6, 4),\n",
       " (2, 0, 3, 1, 9, 11, 8, 10, 4, 6, 5, 7),\n",
       " (2, 0, 3, 1, 11, 9, 10, 8, 5, 7, 4, 6),\n",
       " (2, 3, 0, 1, 4, 5, 6, 7, 9, 8, 11, 10),\n",
       " (2, 3, 0, 1, 5, 4, 7, 6, 11, 10, 9, 8),\n",
       " (3, 1, 2, 0, 9, 11, 8, 10, 6, 4, 7, 5),\n",
       " (3, 1, 2, 0, 11, 9, 10, 8, 7, 5, 6, 4),\n",
       " (3, 2, 1, 0, 6, 7, 4, 5, 9, 8, 11, 10),\n",
       " (3, 2, 1, 0, 7, 6, 5, 4, 11, 10, 9, 8),\n",
       " (4, 5, 6, 7, 8, 9, 10, 11, 0, 1, 2, 3),\n",
       " (4, 5, 6, 7, 9, 8, 11, 10, 2, 3, 0, 1),\n",
       " (4, 6, 5, 7, 0, 2, 1, 3, 8, 10, 9, 11),\n",
       " (4, 6, 5, 7, 2, 0, 3, 1, 9, 11, 8, 10),\n",
       " (5, 4, 7, 6, 10, 11, 8, 9, 0, 1, 2, 3),\n",
       " (5, 4, 7, 6, 11, 10, 9, 8, 2, 3, 0, 1),\n",
       " (5, 7, 4, 6, 0, 2, 1, 3, 10, 8, 11, 9),\n",
       " (5, 7, 4, 6, 2, 0, 3, 1, 11, 9, 10, 8),\n",
       " (6, 4, 7, 5, 1, 3, 0, 2, 8, 10, 9, 11),\n",
       " (6, 4, 7, 5, 3, 1, 2, 0, 9, 11, 8, 10),\n",
       " (6, 7, 4, 5, 8, 9, 10, 11, 1, 0, 3, 2),\n",
       " (6, 7, 4, 5, 9, 8, 11, 10, 3, 2, 1, 0),\n",
       " (7, 5, 6, 4, 1, 3, 0, 2, 10, 8, 11, 9),\n",
       " (7, 5, 6, 4, 3, 1, 2, 0, 11, 9, 10, 8),\n",
       " (7, 6, 5, 4, 10, 11, 8, 9, 1, 0, 3, 2),\n",
       " (7, 6, 5, 4, 11, 10, 9, 8, 3, 2, 1, 0),\n",
       " (8, 9, 10, 11, 0, 1, 2, 3, 4, 5, 6, 7),\n",
       " (8, 9, 10, 11, 1, 0, 3, 2, 6, 7, 4, 5),\n",
       " (8, 10, 9, 11, 4, 6, 5, 7, 0, 2, 1, 3),\n",
       " (8, 10, 9, 11, 6, 4, 7, 5, 1, 3, 0, 2),\n",
       " (9, 8, 11, 10, 2, 3, 0, 1, 4, 5, 6, 7),\n",
       " (9, 8, 11, 10, 3, 2, 1, 0, 6, 7, 4, 5),\n",
       " (9, 11, 8, 10, 4, 6, 5, 7, 2, 0, 3, 1),\n",
       " (9, 11, 8, 10, 6, 4, 7, 5, 3, 1, 2, 0),\n",
       " (10, 8, 11, 9, 5, 7, 4, 6, 0, 2, 1, 3),\n",
       " (10, 8, 11, 9, 7, 5, 6, 4, 1, 3, 0, 2),\n",
       " (10, 11, 8, 9, 0, 1, 2, 3, 5, 4, 7, 6),\n",
       " (10, 11, 8, 9, 1, 0, 3, 2, 7, 6, 5, 4),\n",
       " (11, 9, 10, 8, 5, 7, 4, 6, 2, 0, 3, 1),\n",
       " (11, 9, 10, 8, 7, 5, 6, 4, 3, 1, 2, 0),\n",
       " (11, 10, 9, 8, 2, 3, 0, 1, 5, 4, 7, 6),\n",
       " (11, 10, 9, 8, 3, 2, 1, 0, 7, 6, 5, 4)}"
      ]
     },
     "execution_count": 6,
     "metadata": {},
     "output_type": "execute_result"
    }
   ],
   "source": [
    "perms"
   ]
  },
  {
   "cell_type": "code",
   "execution_count": null,
   "metadata": {
    "collapsed": true
   },
   "outputs": [],
   "source": []
  }
 ],
 "metadata": {
  "kernelspec": {
   "display_name": "Python 3",
   "language": "python",
   "name": "python3"
  },
  "language_info": {
   "codemirror_mode": {
    "name": "ipython",
    "version": 3
   },
   "file_extension": ".py",
   "mimetype": "text/x-python",
   "name": "python",
   "nbconvert_exporter": "python",
   "pygments_lexer": "ipython3",
   "version": "3.4.3"
  }
 },
 "nbformat": 4,
 "nbformat_minor": 0
}
