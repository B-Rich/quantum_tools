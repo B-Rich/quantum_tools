{
 "cells": [
  {
   "cell_type": "code",
   "execution_count": 1,
   "metadata": {
    "collapsed": false
   },
   "outputs": [],
   "source": [
    "%matplotlib inline\n",
    "%load_ext autoreload\n",
    "%autoreload 2"
   ]
  },
  {
   "cell_type": "code",
   "execution_count": 6,
   "metadata": {
    "collapsed": false
   },
   "outputs": [],
   "source": [
    "from quantum_tools.symmetries.workspace import *\n",
    "from quantum_tools.examples import bell_scenario_inflation as bell\n",
    "from quantum_tools.statistics.variable import *\n",
    "from quantum_tools.visualization.sparse_vis import plot_coo_matrix\n",
    "from quantum_tools.examples.symbolic_contexts import *\n",
    "from quantum_tools.esp import rayshooting"
   ]
  },
  {
   "cell_type": "code",
   "execution_count": 4,
   "metadata": {
    "collapsed": false
   },
   "outputs": [
    {
     "data": {
      "text/plain": [
       "SymbolicContext(preinjectable_sets=[[['A2'], ['B2'], ['C2']], [['B2'], ['A2', 'C1']], [['C2'], ['A1', 'B2']], [['A2'], ['B1', 'C2']], [['A1', 'B1', 'C1']]], outcomes=[2, 2, 2, 2, 2, 2])"
      ]
     },
     "execution_count": 4,
     "metadata": {},
     "output_type": "execute_result"
    }
   ],
   "source": [
    "ABC_222_222"
   ]
  },
  {
   "cell_type": "code",
   "execution_count": 7,
   "metadata": {
    "collapsed": false
   },
   "outputs": [
    {
     "name": "stdout",
     "output_type": "stream",
     "text": [
      "40 64\n",
      "ShiftedBase(shift=0, base=(32, 16, 8, 4, 2, 1))\n",
      "ShiftedBase(shift=0, base=(0, 4, 0, 2, 0, 1))\n",
      "ShiftedBase(shift=8, base=(0, 4, 0, 2, 1, 0))\n",
      "ShiftedBase(shift=16, base=(4, 0, 0, 2, 0, 1))\n",
      "ShiftedBase(shift=24, base=(0, 4, 2, 0, 0, 1))\n",
      "ShiftedBase(shift=32, base=(4, 0, 2, 0, 1, 0))\n",
      "Found 14 row_orbits.\n",
      "Found 20 col_orbits.\n"
     ]
    }
   ],
   "source": [
    "row_sum, A, col_sum, contracted_A = get_contraction_elements(ABC_222_222)"
   ]
  },
  {
   "cell_type": "code",
   "execution_count": 10,
   "metadata": {
    "collapsed": false
   },
   "outputs": [
    {
     "data": {
      "text/plain": [
       "(14, 20)"
      ]
     },
     "execution_count": 10,
     "metadata": {},
     "output_type": "execute_result"
    }
   ],
   "source": [
    "contracted_A.shape"
   ]
  },
  {
   "cell_type": "code",
   "execution_count": 16,
   "metadata": {
    "collapsed": false
   },
   "outputs": [],
   "source": [
    "R, C, b = rayshooting.eliminate_marginals(contracted_A)"
   ]
  },
  {
   "cell_type": "code",
   "execution_count": 22,
   "metadata": {
    "collapsed": false
   },
   "outputs": [
    {
     "data": {
      "text/plain": [
       "array([[-1.,  0.,  0.,  0.,  0.,  0.,  0.,  0.,  0.,  0.,  0.,  0.,  0.,  0.,  0.,  0.,  0.,  0.,  0.,  0.],\n",
       "       [ 0., -1.,  0.,  0.,  0.,  0.,  0.,  0.,  0.,  0.,  0.,  0.,  0.,  0.,  0.,  0.,  0.,  0.,  0.,  0.],\n",
       "       [ 0.,  0., -1.,  0.,  0.,  0.,  0.,  0.,  0.,  0.,  0.,  0.,  0.,  0.,  0.,  0.,  0.,  0.,  0.,  0.],\n",
       "       [ 0.,  0.,  0., -1.,  0.,  0.,  0.,  0.,  0.,  0.,  0.,  0.,  0.,  0.,  0.,  0.,  0.,  0.,  0.,  0.],\n",
       "       [ 0.,  0.,  0.,  0., -1.,  0.,  0.,  0.,  0.,  0.,  0.,  0.,  0.,  0.,  0.,  0.,  0.,  0.,  0.,  0.],\n",
       "       [ 0.,  0.,  0.,  0.,  0., -1.,  0.,  0.,  0.,  0.,  0.,  0.,  0.,  0.,  0.,  0.,  0.,  0.,  0.,  0.],\n",
       "       [ 0.,  0.,  0.,  0.,  0.,  0., -1.,  0.,  0.,  0.,  0.,  0.,  0.,  0.,  0.,  0.,  0.,  0.,  0.,  0.],\n",
       "       [ 0.,  0.,  0.,  0.,  0.,  0.,  0., -1.,  0.,  0.,  0.,  0.,  0.,  0.,  0.,  0.,  0.,  0.,  0.,  0.],\n",
       "       [ 0.,  0.,  0.,  0.,  0.,  0.,  0.,  0., -1.,  0.,  0.,  0.,  0.,  0.,  0.,  0.,  0.,  0.,  0.,  0.],\n",
       "       [ 0.,  0.,  0.,  0.,  0.,  0.,  0.,  0.,  0., -1.,  0.,  0.,  0.,  0.,  0.,  0.,  0.,  0.,  0.,  0.],\n",
       "       [ 0.,  0.,  0.,  0.,  0.,  0.,  0.,  0.,  0.,  0., -1.,  0.,  0.,  0.,  0.,  0.,  0.,  0.,  0.,  0.],\n",
       "       [ 0.,  0.,  0.,  0.,  0.,  0.,  0.,  0.,  0.,  0.,  0., -1.,  0.,  0.,  0.,  0.,  0.,  0.,  0.,  0.],\n",
       "       [ 0.,  0.,  0.,  0.,  0.,  0.,  0.,  0.,  0.,  0.,  0.,  0., -1.,  0.,  0.,  0.,  0.,  0.,  0.,  0.],\n",
       "       [ 0.,  0.,  0.,  0.,  0.,  0.,  0.,  0.,  0.,  0.,  0.,  0.,  0., -1.,  0.,  0.,  0.,  0.,  0.,  0.],\n",
       "       [ 0.,  0.,  0.,  0.,  0.,  0.,  0.,  0.,  0.,  0.,  0.,  0.,  0.,  0., -1.,  0.,  0.,  0.,  0.,  0.],\n",
       "       [ 0.,  0.,  0.,  0.,  0.,  0.,  0.,  0.,  0.,  0.,  0.,  0.,  0.,  0.,  0., -1.,  0.,  0.,  0.,  0.],\n",
       "       [ 0.,  0.,  0.,  0.,  0.,  0.,  0.,  0.,  0.,  0.,  0.,  0.,  0.,  0.,  0.,  0., -1.,  0.,  0.,  0.],\n",
       "       [ 0.,  0.,  0.,  0.,  0.,  0.,  0.,  0.,  0.,  0.,  0.,  0.,  0.,  0.,  0.,  0.,  0., -1.,  0.,  0.],\n",
       "       [ 0.,  0.,  0.,  0.,  0.,  0.,  0.,  0.,  0.,  0.,  0.,  0.,  0.,  0.,  0.,  0.,  0.,  0., -1.,  0.],\n",
       "       [ 0.,  0.,  0.,  0.,  0.,  0.,  0.,  0.,  0.,  0.,  0.,  0.,  0.,  0.,  0.,  0.,  0.,  0.,  0., -1.],\n",
       "       [ 1.,  0.,  3.,  0.,  0.,  0.,  0.,  3.,  0.,  0.,  0.,  0.,  0.,  0.,  0.,  0.,  1.,  0.,  0.,  0.],\n",
       "       [ 0.,  3.,  0.,  3.,  0.,  6.,  0.,  0.,  6.,  0.,  0.,  0.,  0.,  3.,  0.,  0.,  0.,  3.,  0.,  0.],\n",
       "       [ 0.,  0.,  0.,  0.,  3.,  0.,  6.,  0.,  0.,  3.,  0.,  3.,  0.,  0.,  6.,  0.,  0.,  0.,  3.,  0.],\n",
       "       [ 0.,  0.,  0.,  0.,  0.,  0.,  0.,  0.,  0.,  0.,  1.,  0.,  3.,  0.,  0.,  3.,  0.,  0.,  0.,  1.],\n",
       "       [ 3.,  3.,  6.,  0.,  0.,  6.,  0.,  3.,  0.,  0.,  0.,  0.,  0.,  3.,  0.,  0.,  0.,  0.,  0.,  0.],\n",
       "       [ 0.,  0.,  3.,  3.,  0.,  0.,  0.,  6.,  6.,  0.,  0.,  0.,  0.,  0.,  0.,  0.,  3.,  3.,  0.,  0.],\n",
       "       [ 0.,  6.,  0.,  6.,  6.,  6.,  6.,  0.,  6.,  0.,  0.,  6.,  0.,  0.,  6.,  0.,  0.,  0.,  0.,  0.],\n",
       "       [ 0.,  0.,  0.,  0.,  0.,  6.,  6.,  0.,  6.,  6.,  0.,  0.,  0.,  6.,  6.,  0.,  0.,  6.,  6.,  0.],\n",
       "       [ 0.,  0.,  0.,  0.,  3.,  0.,  6.,  0.,  0.,  3.,  3.,  0.,  6.,  0.,  0.,  3.,  0.,  0.,  0.,  0.],\n",
       "       [ 0.,  0.,  0.,  0.,  0.,  0.,  0.,  0.,  0.,  0.,  0.,  3.,  3.,  0.,  6.,  6.,  0.,  0.,  3.,  3.],\n",
       "       [ 1.,  3.,  0.,  0.,  3.,  0.,  0.,  0.,  0.,  0.,  1.,  0.,  0.,  0.,  0.,  0.,  0.,  0.,  0.,  0.],\n",
       "       [ 0.,  0.,  3.,  3.,  0.,  6.,  6.,  0.,  0.,  0.,  0.,  3.,  3.,  0.,  0.,  0.,  0.,  0.,  0.,  0.],\n",
       "       [ 0.,  0.,  0.,  0.,  0.,  0.,  0.,  3.,  6.,  3.,  0.,  0.,  0.,  3.,  6.,  3.,  0.,  0.,  0.,  0.],\n",
       "       [ 0.,  0.,  0.,  0.,  0.,  0.,  0.,  0.,  0.,  0.,  0.,  0.,  0.,  0.,  0.,  0.,  1.,  3.,  3.,  1.],\n",
       "       [-1., -0., -3., -0., -0., -0., -0., -3., -0., -0., -0., -0., -0., -0., -0., -0., -1., -0., -0., -0.],\n",
       "       [-0., -3., -0., -3., -0., -6., -0., -0., -6., -0., -0., -0., -0., -3., -0., -0., -0., -3., -0., -0.],\n",
       "       [-0., -0., -0., -0., -3., -0., -6., -0., -0., -3., -0., -3., -0., -0., -6., -0., -0., -0., -3., -0.],\n",
       "       [-0., -0., -0., -0., -0., -0., -0., -0., -0., -0., -1., -0., -3., -0., -0., -3., -0., -0., -0., -1.],\n",
       "       [-3., -3., -6., -0., -0., -6., -0., -3., -0., -0., -0., -0., -0., -3., -0., -0., -0., -0., -0., -0.],\n",
       "       [-0., -0., -3., -3., -0., -0., -0., -6., -6., -0., -0., -0., -0., -0., -0., -0., -3., -3., -0., -0.],\n",
       "       [-0., -6., -0., -6., -6., -6., -6., -0., -6., -0., -0., -6., -0., -0., -6., -0., -0., -0., -0., -0.],\n",
       "       [-0., -0., -0., -0., -0., -6., -6., -0., -6., -6., -0., -0., -0., -6., -6., -0., -0., -6., -6., -0.],\n",
       "       [-0., -0., -0., -0., -3., -0., -6., -0., -0., -3., -3., -0., -6., -0., -0., -3., -0., -0., -0., -0.],\n",
       "       [-0., -0., -0., -0., -0., -0., -0., -0., -0., -0., -0., -3., -3., -0., -6., -6., -0., -0., -3., -3.],\n",
       "       [-1., -3., -0., -0., -3., -0., -0., -0., -0., -0., -1., -0., -0., -0., -0., -0., -0., -0., -0., -0.],\n",
       "       [-0., -0., -3., -3., -0., -6., -6., -0., -0., -0., -0., -3., -3., -0., -0., -0., -0., -0., -0., -0.],\n",
       "       [-0., -0., -0., -0., -0., -0., -0., -3., -6., -3., -0., -0., -0., -3., -6., -3., -0., -0., -0., -0.],\n",
       "       [-0., -0., -0., -0., -0., -0., -0., -0., -0., -0., -0., -0., -0., -0., -0., -0., -1., -3., -3., -1.]])"
      ]
     },
     "execution_count": 22,
     "metadata": {},
     "output_type": "execute_result"
    }
   ],
   "source": [
    "C"
   ]
  },
  {
   "cell_type": "code",
   "execution_count": 23,
   "metadata": {
    "collapsed": false
   },
   "outputs": [
    {
     "ename": "Exception",
     "evalue": "shoot: could not find starting equality set",
     "output_type": "error",
     "traceback": [
      "\u001b[1;31m---------------------------------------------------------------------------\u001b[0m",
      "\u001b[1;31mException\u001b[0m                                 Traceback (most recent call last)",
      "\u001b[1;32m<ipython-input-23-69d98fcee07d>\u001b[0m in \u001b[0;36m<module>\u001b[1;34m()\u001b[0m\n\u001b[1;32m----> 1\u001b[1;33m \u001b[0mrayshooting\u001b[0m\u001b[1;33m.\u001b[0m\u001b[0mshoot\u001b[0m\u001b[1;33m(\u001b[0m\u001b[0mR\u001b[0m\u001b[1;33m,\u001b[0m \u001b[0mC\u001b[0m\u001b[1;33m,\u001b[0m \u001b[0mb\u001b[0m\u001b[1;33m)\u001b[0m\u001b[1;33m\u001b[0m\u001b[0m\n\u001b[0m",
      "\u001b[1;32m/cygdrive/t/OneDrive/quantum_tools/code/quantum_tools/esp/rayshooting.py\u001b[0m in \u001b[0;36mshoot\u001b[1;34m(R, C, b)\u001b[0m\n\u001b[0;32m     25\u001b[0m \u001b[1;33m\u001b[0m\u001b[0m\n\u001b[0;32m     26\u001b[0m \u001b[1;32mdef\u001b[0m \u001b[0mshoot\u001b[0m\u001b[1;33m(\u001b[0m\u001b[0mR\u001b[0m\u001b[1;33m,\u001b[0m\u001b[0mC\u001b[0m\u001b[1;33m,\u001b[0m\u001b[0mb\u001b[0m\u001b[1;33m)\u001b[0m\u001b[1;33m:\u001b[0m\u001b[1;33m\u001b[0m\u001b[0m\n\u001b[1;32m---> 27\u001b[1;33m     \u001b[1;32mreturn\u001b[0m \u001b[0mesp\u001b[0m\u001b[1;33m.\u001b[0m\u001b[0mshoot\u001b[0m\u001b[1;33m(\u001b[0m\u001b[0mR\u001b[0m\u001b[1;33m,\u001b[0m\u001b[0mC\u001b[0m\u001b[1;33m,\u001b[0m\u001b[0mb\u001b[0m\u001b[1;33m)\u001b[0m\u001b[1;33m\u001b[0m\u001b[0m\n\u001b[0m",
      "\u001b[1;32m/usr/lib/python3.4/site-packages/polytope-0.1.2.dev0_b_ba2543043d1159e221342b87652302c9e9b130d8_n_-py3.4.egg/polytope/esp.py\u001b[0m in \u001b[0;36mshoot\u001b[1;34m(C, D, b, maxiter, abs_tol)\u001b[0m\n\u001b[0;32m    280\u001b[0m     \u001b[1;32mwhile\u001b[0m \u001b[1;32mTrue\u001b[0m\u001b[1;33m:\u001b[0m\u001b[1;33m\u001b[0m\u001b[0m\n\u001b[0;32m    281\u001b[0m         \u001b[1;32mif\u001b[0m \u001b[0miter\u001b[0m \u001b[1;33m>\u001b[0m \u001b[0mmaxiter\u001b[0m\u001b[1;33m:\u001b[0m\u001b[1;33m\u001b[0m\u001b[0m\n\u001b[1;32m--> 282\u001b[1;33m             \u001b[1;32mraise\u001b[0m \u001b[0mException\u001b[0m\u001b[1;33m(\u001b[0m\u001b[1;34m\"shoot: could not find starting equality set\"\u001b[0m\u001b[1;33m)\u001b[0m\u001b[1;33m\u001b[0m\u001b[0m\n\u001b[0m\u001b[0;32m    283\u001b[0m         \u001b[0mgamma\u001b[0m \u001b[1;33m=\u001b[0m \u001b[0mnp\u001b[0m\u001b[1;33m.\u001b[0m\u001b[0mrandom\u001b[0m\u001b[1;33m.\u001b[0m\u001b[0mrand\u001b[0m\u001b[1;33m(\u001b[0m\u001b[0md\u001b[0m\u001b[1;33m)\u001b[0m \u001b[1;33m-\u001b[0m \u001b[1;36m0.5\u001b[0m\u001b[1;33m\u001b[0m\u001b[0m\n\u001b[0;32m    284\u001b[0m \u001b[1;33m\u001b[0m\u001b[0m\n",
      "\u001b[1;31mException\u001b[0m: shoot: could not find starting equality set"
     ]
    }
   ],
   "source": [
    "rayshooting.shoot(R, C, b)"
   ]
  },
  {
   "cell_type": "code",
   "execution_count": 19,
   "metadata": {
    "collapsed": false
   },
   "outputs": [],
   "source": [
    "A, b, symbolic_contexts, inflation_rvc, original_rvc, pd = bell.set_up()"
   ]
  },
  {
   "cell_type": "code",
   "execution_count": 20,
   "metadata": {
    "collapsed": false
   },
   "outputs": [
    {
     "data": {
      "text/latex": [
       "$$\\mathcal{R}, \\left|\\mathcal{R}\\right| = {4}, \\mathcal{O}(\\mathcal{R}) = {16 = 2^4}$$$$A \\rightarrow [0, 1]$$$$B \\rightarrow [0, 1]$$$$X \\rightarrow [0, 1]$$$$Y \\rightarrow [0, 1]$$"
      ],
      "text/plain": [
       "RandomVariableCollection\n",
       "4 Random Variables:\n",
       "Outcomes: 16 = 2^4\n",
       "A -> [0, 1]\n",
       "B -> [0, 1]\n",
       "X -> [0, 1]\n",
       "Y -> [0, 1]"
      ]
     },
     "execution_count": 20,
     "metadata": {},
     "output_type": "execute_result"
    }
   ],
   "source": [
    "original_rvc"
   ]
  },
  {
   "cell_type": "code",
   "execution_count": 21,
   "metadata": {
    "collapsed": false
   },
   "outputs": [
    {
     "data": {
      "image/png": "[encoded data removed]",
      "text/plain": [
       "<matplotlib.figure.Figure at 0x6fffb871898>"
      ]
     },
     "metadata": {},
     "output_type": "display_data"
    }
   ],
   "source": [
    "plot_coo_matrix(A)"
   ]
  },
  {
   "cell_type": "code",
   "execution_count": 17,
   "metadata": {
    "collapsed": false
   },
   "outputs": [
    {
     "data": {
      "text/latex": [
       "$B_2 \\rightarrow [3, 4, 11]$"
      ],
      "text/plain": [
       "B2 -> [3, 4, 11]"
      ]
     },
     "execution_count": 17,
     "metadata": {},
     "output_type": "execute_result"
    }
   ],
   "source": [
    "RandomVariable('B2', [3, 4, 11])"
   ]
  },
  {
   "cell_type": "code",
   "execution_count": 44,
   "metadata": {
    "collapsed": false
   },
   "outputs": [
    {
     "data": {
      "text/latex": [
       "$B_2 \\rightarrow [0, 1, 2, 3]$"
      ],
      "text/plain": [
       "B2 -> [0, 1, 2, 3]"
      ]
     },
     "execution_count": 44,
     "metadata": {},
     "output_type": "execute_result"
    }
   ],
   "source": [
    "lt"
   ]
  },
  {
   "cell_type": "code",
   "execution_count": 36,
   "metadata": {
    "collapsed": false
   },
   "outputs": [
    {
     "data": {
      "text/latex": [
       "$$ e^{i \\pi }$$\n",
       "$ e^3 $"
      ],
      "text/plain": [
       "<IPython.core.display.Latex object>"
      ]
     },
     "metadata": {},
     "output_type": "display_data"
    }
   ],
   "source": [
    "%%latex\n",
    "$$ e^{i \\pi }$$\n",
    "$ e^3 $"
   ]
  },
  {
   "cell_type": "code",
   "execution_count": 39,
   "metadata": {
    "collapsed": false
   },
   "outputs": [
    {
     "name": "stdout",
     "output_type": "stream",
     "text": [
      "[A -> [0, 1], B -> [0, 1], C -> [0, 1]]\n",
      "RandomVariableCollection\n",
      "1 Random Variables:\n",
      "Outcomes: 2 = 2\n",
      "A -> [0, 1]\n",
      "RandomVariableCollection\n",
      "3 Random Variables:\n",
      "Outcomes: 8 = 2^3\n",
      "A -> [0, 1]\n",
      "B -> [0, 1]\n",
      "C -> [0, 1]\n"
     ]
    }
   ],
   "source": [
    "a = bell.set_up()"
   ]
  },
  {
   "cell_type": "code",
   "execution_count": 9,
   "metadata": {
    "collapsed": false,
    "scrolled": true
   },
   "outputs": [
    {
     "data": {
      "text/plain": [
       "<function quantum_tools.symmetries.workspace.perm_bin_op>"
      ]
     },
     "execution_count": 9,
     "metadata": {},
     "output_type": "execute_result"
    }
   ],
   "source": [
    "perm_bin_op"
   ]
  },
  {
   "cell_type": "code",
   "execution_count": 2,
   "metadata": {
    "collapsed": true
   },
   "outputs": [],
   "source": [
    "group_gen = ((3, 2, 1, 0, 7, 6, 5, 4, 11, 10, 9, 8),\n",
    "             (0, 2, 1, 3, 8, 10, 9, 11, 4, 6, 5, 7),\n",
    "             (8, 9, 10, 11, 0, 1, 2, 3, 4, 5, 6, 7),\n",
    "             (0, 1, 2, 3, 5, 4, 7, 6, 10, 11, 8, 9))"
   ]
  },
  {
   "cell_type": "code",
   "execution_count": 5,
   "metadata": {
    "collapsed": false
   },
   "outputs": [],
   "source": [
    "perms = find_actions(group_gen, perm_bin_op)"
   ]
  },
  {
   "cell_type": "code",
   "execution_count": 6,
   "metadata": {
    "collapsed": false
   },
   "outputs": [
    {
     "data": {
      "text/plain": [
       "{(0, 1, 2, 3, 4, 5, 6, 7, 8, 9, 10, 11),\n",
       " (0, 1, 2, 3, 5, 4, 7, 6, 10, 11, 8, 9),\n",
       " (0, 2, 1, 3, 8, 10, 9, 11, 4, 6, 5, 7),\n",
       " (0, 2, 1, 3, 10, 8, 11, 9, 5, 7, 4, 6),\n",
       " (1, 0, 3, 2, 6, 7, 4, 5, 8, 9, 10, 11),\n",
       " (1, 0, 3, 2, 7, 6, 5, 4, 10, 11, 8, 9),\n",
       " (1, 3, 0, 2, 8, 10, 9, 11, 6, 4, 7, 5),\n",
       " (1, 3, 0, 2, 10, 8, 11, 9, 7, 5, 6, 4),\n",
       " (2, 0, 3, 1, 9, 11, 8, 10, 4, 6, 5, 7),\n",
       " (2, 0, 3, 1, 11, 9, 10, 8, 5, 7, 4, 6),\n",
       " (2, 3, 0, 1, 4, 5, 6, 7, 9, 8, 11, 10),\n",
       " (2, 3, 0, 1, 5, 4, 7, 6, 11, 10, 9, 8),\n",
       " (3, 1, 2, 0, 9, 11, 8, 10, 6, 4, 7, 5),\n",
       " (3, 1, 2, 0, 11, 9, 10, 8, 7, 5, 6, 4),\n",
       " (3, 2, 1, 0, 6, 7, 4, 5, 9, 8, 11, 10),\n",
       " (3, 2, 1, 0, 7, 6, 5, 4, 11, 10, 9, 8),\n",
       " (4, 5, 6, 7, 8, 9, 10, 11, 0, 1, 2, 3),\n",
       " (4, 5, 6, 7, 9, 8, 11, 10, 2, 3, 0, 1),\n",
       " (4, 6, 5, 7, 0, 2, 1, 3, 8, 10, 9, 11),\n",
       " (4, 6, 5, 7, 2, 0, 3, 1, 9, 11, 8, 10),\n",
       " (5, 4, 7, 6, 10, 11, 8, 9, 0, 1, 2, 3),\n",
       " (5, 4, 7, 6, 11, 10, 9, 8, 2, 3, 0, 1),\n",
       " (5, 7, 4, 6, 0, 2, 1, 3, 10, 8, 11, 9),\n",
       " (5, 7, 4, 6, 2, 0, 3, 1, 11, 9, 10, 8),\n",
       " (6, 4, 7, 5, 1, 3, 0, 2, 8, 10, 9, 11),\n",
       " (6, 4, 7, 5, 3, 1, 2, 0, 9, 11, 8, 10),\n",
       " (6, 7, 4, 5, 8, 9, 10, 11, 1, 0, 3, 2),\n",
       " (6, 7, 4, 5, 9, 8, 11, 10, 3, 2, 1, 0),\n",
       " (7, 5, 6, 4, 1, 3, 0, 2, 10, 8, 11, 9),\n",
       " (7, 5, 6, 4, 3, 1, 2, 0, 11, 9, 10, 8),\n",
       " (7, 6, 5, 4, 10, 11, 8, 9, 1, 0, 3, 2),\n",
       " (7, 6, 5, 4, 11, 10, 9, 8, 3, 2, 1, 0),\n",
       " (8, 9, 10, 11, 0, 1, 2, 3, 4, 5, 6, 7),\n",
       " (8, 9, 10, 11, 1, 0, 3, 2, 6, 7, 4, 5),\n",
       " (8, 10, 9, 11, 4, 6, 5, 7, 0, 2, 1, 3),\n",
       " (8, 10, 9, 11, 6, 4, 7, 5, 1, 3, 0, 2),\n",
       " (9, 8, 11, 10, 2, 3, 0, 1, 4, 5, 6, 7),\n",
       " (9, 8, 11, 10, 3, 2, 1, 0, 6, 7, 4, 5),\n",
       " (9, 11, 8, 10, 4, 6, 5, 7, 2, 0, 3, 1),\n",
       " (9, 11, 8, 10, 6, 4, 7, 5, 3, 1, 2, 0),\n",
       " (10, 8, 11, 9, 5, 7, 4, 6, 0, 2, 1, 3),\n",
       " (10, 8, 11, 9, 7, 5, 6, 4, 1, 3, 0, 2),\n",
       " (10, 11, 8, 9, 0, 1, 2, 3, 5, 4, 7, 6),\n",
       " (10, 11, 8, 9, 1, 0, 3, 2, 7, 6, 5, 4),\n",
       " (11, 9, 10, 8, 5, 7, 4, 6, 2, 0, 3, 1),\n",
       " (11, 9, 10, 8, 7, 5, 6, 4, 3, 1, 2, 0),\n",
       " (11, 10, 9, 8, 2, 3, 0, 1, 5, 4, 7, 6),\n",
       " (11, 10, 9, 8, 3, 2, 1, 0, 7, 6, 5, 4)}"
      ]
     },
     "execution_count": 6,
     "metadata": {},
     "output_type": "execute_result"
    }
   ],
   "source": [
    "perms"
   ]
  },
  {
   "cell_type": "code",
   "execution_count": null,
   "metadata": {
    "collapsed": true
   },
   "outputs": [],
   "source": []
  }
 ],
 "metadata": {
  "kernelspec": {
   "display_name": "Python 3",
   "language": "python",
   "name": "python3"
  },
  "language_info": {
   "codemirror_mode": {
    "name": "ipython",
    "version": 3
   },
   "file_extension": ".py",
   "mimetype": "text/x-python",
   "name": "python",
   "nbconvert_exporter": "python",
   "pygments_lexer": "ipython3",
   "version": "3.4.3"
  }
 },
 "nbformat": 4,
 "nbformat_minor": 0
}
