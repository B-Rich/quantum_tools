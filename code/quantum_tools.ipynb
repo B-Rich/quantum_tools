{
 "cells": [
  {
   "cell_type": "code",
   "execution_count": 1,
   "metadata": {
    "collapsed": false
   },
   "outputs": [],
   "source": [
    "%matplotlib inline\n",
    "%load_ext autoreload\n",
    "%autoreload 2"
   ]
  },
  {
   "cell_type": "code",
   "execution_count": 3,
   "metadata": {
    "collapsed": false
   },
   "outputs": [],
   "source": [
    "from quantum_tools.symmetries.workspace import *\n",
    "from quantum_tools.examples import bell_scenario_inflation as bell\n",
    "from quantum_tools.statistics.variable import *\n",
    "from quantum_tools.visualization.sparse_vis import plot_coo_matrix"
   ]
  },
  {
   "cell_type": "code",
   "execution_count": 4,
   "metadata": {
    "collapsed": false
   },
   "outputs": [],
   "source": [
    "A, b, symbolic_contexts, inflation_rvc, original_rvc, pd = bell.set_up()"
   ]
  },
  {
   "cell_type": "code",
   "execution_count": 5,
   "metadata": {
    "collapsed": false
   },
   "outputs": [
    {
     "data": {
      "text/latex": [
       "$$\\mathcal{R}, \\left|\\mathcal{R}\\right| = {4}, \\mathcal{O}(\\mathcal{R}) = {16 = 2^4}$$$$A \\rightarrow [0, 1]$$$$B \\rightarrow [0, 1]$$$$X \\rightarrow [0, 1]$$$$Y \\rightarrow [0, 1]$$"
      ],
      "text/plain": [
       "RandomVariableCollection\n",
       "4 Random Variables:\n",
       "Outcomes: 16 = 2^4\n",
       "A -> [0, 1]\n",
       "B -> [0, 1]\n",
       "X -> [0, 1]\n",
       "Y -> [0, 1]"
      ]
     },
     "execution_count": 5,
     "metadata": {},
     "output_type": "execute_result"
    }
   ],
   "source": [
    "original_rvc"
   ]
  },
  {
   "cell_type": "code",
   "execution_count": 6,
   "metadata": {
    "collapsed": false
   },
   "outputs": [
    {
     "data": {
      "image/png": "[encoded data removed]",
      "text/plain": [
       "<matplotlib.figure.Figure at 0x7f2634bc8198>"
      ]
     },
     "metadata": {},
     "output_type": "display_data"
    }
   ],
   "source": [
    "plot_coo_matrix(A)"
   ]
  },
  {
   "cell_type": "code",
   "execution_count": 7,
   "metadata": {
    "collapsed": false
   },
   "outputs": [
    {
     "data": {
      "text/latex": [
       "$$B_2 \\rightarrow [3, 4, 11]$$"
      ],
      "text/plain": [
       "B2 -> [3, 4, 11]"
      ]
     },
     "execution_count": 7,
     "metadata": {},
     "output_type": "execute_result"
    }
   ],
   "source": [
    "RandomVariable('B2', [3, 4, 11])"
   ]
  },
  {
   "cell_type": "code",
   "execution_count": 8,
   "metadata": {
    "collapsed": false
   },
   "outputs": [
    {
     "ename": "NameError",
     "evalue": "name 'lt' is not defined",
     "output_type": "error",
     "traceback": [
      "\u001b[1;31m---------------------------------------------------------------------------\u001b[0m",
      "\u001b[1;31mNameError\u001b[0m                                 Traceback (most recent call last)",
      "\u001b[1;32m<ipython-input-8-df66c4fac475>\u001b[0m in \u001b[0;36m<module>\u001b[1;34m()\u001b[0m\n\u001b[1;32m----> 1\u001b[1;33m \u001b[0mlt\u001b[0m\u001b[1;33m\u001b[0m\u001b[0m\n\u001b[0m",
      "\u001b[1;31mNameError\u001b[0m: name 'lt' is not defined"
     ]
    }
   ],
   "source": [
    "lt"
   ]
  },
  {
   "cell_type": "code",
   "execution_count": 9,
   "metadata": {
    "collapsed": false
   },
   "outputs": [
    {
     "data": {
      "text/latex": [
       "$$ e^{i \\pi }$$\n",
       "$ e^3 $"
      ],
      "text/plain": [
       "<IPython.core.display.Latex object>"
      ]
     },
     "metadata": {},
     "output_type": "display_data"
    }
   ],
   "source": [
    "%%latex\n",
    "$$ e^{i \\pi }$$\n",
    "$ e^3 $"
   ]
  },
  {
   "cell_type": "code",
   "execution_count": 10,
   "metadata": {
    "collapsed": false
   },
   "outputs": [],
   "source": [
    "a = bell.set_up()"
   ]
  },
  {
   "cell_type": "code",
   "execution_count": 11,
   "metadata": {
    "collapsed": false,
    "scrolled": true
   },
   "outputs": [
    {
     "data": {
      "text/plain": [
       "<function quantum_tools.symmetries.workspace.perm_bin_op>"
      ]
     },
     "execution_count": 11,
     "metadata": {},
     "output_type": "execute_result"
    }
   ],
   "source": [
    "perm_bin_op"
   ]
  },
  {
   "cell_type": "code",
   "execution_count": 12,
   "metadata": {
    "collapsed": true
   },
   "outputs": [],
   "source": [
    "group_gen = ((3, 2, 1, 0, 7, 6, 5, 4, 11, 10, 9, 8),\n",
    "             (0, 2, 1, 3, 8, 10, 9, 11, 4, 6, 5, 7),\n",
    "             (8, 9, 10, 11, 0, 1, 2, 3, 4, 5, 6, 7),\n",
    "             (0, 1, 2, 3, 5, 4, 7, 6, 10, 11, 8, 9))"
   ]
  },
  {
   "cell_type": "code",
   "execution_count": 13,
   "metadata": {
    "collapsed": false
   },
   "outputs": [],
   "source": [
    "perms = find_actions(group_gen, perm_bin_op)"
   ]
  },
  {
   "cell_type": "code",
   "execution_count": 6,
   "metadata": {
    "collapsed": false
   },
   "outputs": [
    {
     "data": {
      "text/plain": [
       "{(0, 1, 2, 3, 4, 5, 6, 7, 8, 9, 10, 11),\n",
       " (0, 1, 2, 3, 5, 4, 7, 6, 10, 11, 8, 9),\n",
       " (0, 2, 1, 3, 8, 10, 9, 11, 4, 6, 5, 7),\n",
       " (0, 2, 1, 3, 10, 8, 11, 9, 5, 7, 4, 6),\n",
       " (1, 0, 3, 2, 6, 7, 4, 5, 8, 9, 10, 11),\n",
       " (1, 0, 3, 2, 7, 6, 5, 4, 10, 11, 8, 9),\n",
       " (1, 3, 0, 2, 8, 10, 9, 11, 6, 4, 7, 5),\n",
       " (1, 3, 0, 2, 10, 8, 11, 9, 7, 5, 6, 4),\n",
       " (2, 0, 3, 1, 9, 11, 8, 10, 4, 6, 5, 7),\n",
       " (2, 0, 3, 1, 11, 9, 10, 8, 5, 7, 4, 6),\n",
       " (2, 3, 0, 1, 4, 5, 6, 7, 9, 8, 11, 10),\n",
       " (2, 3, 0, 1, 5, 4, 7, 6, 11, 10, 9, 8),\n",
       " (3, 1, 2, 0, 9, 11, 8, 10, 6, 4, 7, 5),\n",
       " (3, 1, 2, 0, 11, 9, 10, 8, 7, 5, 6, 4),\n",
       " (3, 2, 1, 0, 6, 7, 4, 5, 9, 8, 11, 10),\n",
       " (3, 2, 1, 0, 7, 6, 5, 4, 11, 10, 9, 8),\n",
       " (4, 5, 6, 7, 8, 9, 10, 11, 0, 1, 2, 3),\n",
       " (4, 5, 6, 7, 9, 8, 11, 10, 2, 3, 0, 1),\n",
       " (4, 6, 5, 7, 0, 2, 1, 3, 8, 10, 9, 11),\n",
       " (4, 6, 5, 7, 2, 0, 3, 1, 9, 11, 8, 10),\n",
       " (5, 4, 7, 6, 10, 11, 8, 9, 0, 1, 2, 3),\n",
       " (5, 4, 7, 6, 11, 10, 9, 8, 2, 3, 0, 1),\n",
       " (5, 7, 4, 6, 0, 2, 1, 3, 10, 8, 11, 9),\n",
       " (5, 7, 4, 6, 2, 0, 3, 1, 11, 9, 10, 8),\n",
       " (6, 4, 7, 5, 1, 3, 0, 2, 8, 10, 9, 11),\n",
       " (6, 4, 7, 5, 3, 1, 2, 0, 9, 11, 8, 10),\n",
       " (6, 7, 4, 5, 8, 9, 10, 11, 1, 0, 3, 2),\n",
       " (6, 7, 4, 5, 9, 8, 11, 10, 3, 2, 1, 0),\n",
       " (7, 5, 6, 4, 1, 3, 0, 2, 10, 8, 11, 9),\n",
       " (7, 5, 6, 4, 3, 1, 2, 0, 11, 9, 10, 8),\n",
       " (7, 6, 5, 4, 10, 11, 8, 9, 1, 0, 3, 2),\n",
       " (7, 6, 5, 4, 11, 10, 9, 8, 3, 2, 1, 0),\n",
       " (8, 9, 10, 11, 0, 1, 2, 3, 4, 5, 6, 7),\n",
       " (8, 9, 10, 11, 1, 0, 3, 2, 6, 7, 4, 5),\n",
       " (8, 10, 9, 11, 4, 6, 5, 7, 0, 2, 1, 3),\n",
       " (8, 10, 9, 11, 6, 4, 7, 5, 1, 3, 0, 2),\n",
       " (9, 8, 11, 10, 2, 3, 0, 1, 4, 5, 6, 7),\n",
       " (9, 8, 11, 10, 3, 2, 1, 0, 6, 7, 4, 5),\n",
       " (9, 11, 8, 10, 4, 6, 5, 7, 2, 0, 3, 1),\n",
       " (9, 11, 8, 10, 6, 4, 7, 5, 3, 1, 2, 0),\n",
       " (10, 8, 11, 9, 5, 7, 4, 6, 0, 2, 1, 3),\n",
       " (10, 8, 11, 9, 7, 5, 6, 4, 1, 3, 0, 2),\n",
       " (10, 11, 8, 9, 0, 1, 2, 3, 5, 4, 7, 6),\n",
       " (10, 11, 8, 9, 1, 0, 3, 2, 7, 6, 5, 4),\n",
       " (11, 9, 10, 8, 5, 7, 4, 6, 2, 0, 3, 1),\n",
       " (11, 9, 10, 8, 7, 5, 6, 4, 3, 1, 2, 0),\n",
       " (11, 10, 9, 8, 2, 3, 0, 1, 5, 4, 7, 6),\n",
       " (11, 10, 9, 8, 3, 2, 1, 0, 7, 6, 5, 4)}"
      ]
     },
     "execution_count": 6,
     "metadata": {},
     "output_type": "execute_result"
    }
   ],
   "source": [
    "perms"
   ]
  },
  {
   "cell_type": "code",
   "execution_count": null,
   "metadata": {
    "collapsed": true
   },
   "outputs": [],
   "source": []
  }
 ],
 "metadata": {
  "kernelspec": {
   "display_name": "Python 3",
   "language": "python",
   "name": "python3"
  },
  "language_info": {
   "codemirror_mode": {
    "name": "ipython",
    "version": 3
   },
   "file_extension": ".py",
   "mimetype": "text/x-python",
   "name": "python",
   "nbconvert_exporter": "python",
   "pygments_lexer": "ipython3",
   "version": "3.4.3"
  }
 },
 "nbformat": 4,
 "nbformat_minor": 0
}
